{
  "nbformat": 4,
  "nbformat_minor": 0,
  "metadata": {
    "colab": {
      "name": "Churn_prediction.ipynb",
      "provenance": [],
      "toc_visible": true,
      "collapsed_sections": [],
      "authorship_tag": "ABX9TyO6AFfC2i9QEDV59zVp2RJz",
      "include_colab_link": true
    },
    "kernelspec": {
      "name": "python3",
      "display_name": "Python 3"
    },
    "language_info": {
      "name": "python"
    }
  },
  "cells": [
    {
      "cell_type": "markdown",
      "metadata": {
        "id": "view-in-github",
        "colab_type": "text"
      },
      "source": [
        "<a href=\"https://colab.research.google.com/github/fellipe753/Churn_prediction/blob/main/Churn_prediction.ipynb\" target=\"_parent\"><img src=\"https://colab.research.google.com/assets/colab-badge.svg\" alt=\"Open In Colab\"/></a>"
      ]
    },
    {
      "cell_type": "markdown",
      "source": [
        "# Churn Prediction Empresa de Telecomunicações\n",
        "\n",
        "A churn rate representa a taxa de evasão de clientes da base de uma empresa. No caso de uma empresa telecom, são os clientes que cancelam sua assinatura de internet ou seu plano de celular, por exemplo.\n",
        "\n",
        "Podemos dividir o churn em dois principais grupos, abaixo alguns [exemplos](https://blog.vindi.com.br/churn-principais-diferencas/):\n",
        "* **churn involuntário**: uma empresa de telecom para de atuar em um determinado bairro e acaba cancelando todos os clientes deste local. Ou ainda, um cliente que deixou de cumprir com os pagamentos do serviço, e a empresa se vê obrigada a cancelar o serviço.\n",
        "* **churn voluntário**: insatisfação do cliente com o serviço ofertado, mudança para outra operadora com planos/preços melhores e problemas financeiros. \n",
        "\n",
        "<p align=center>\n",
        "<img src=\"https://img.freepik.com/fotos-gratis/mulher-elegante-com-um-portatil-que-escuta-a-musica_1208-193.jpg?t=st=1651025367~exp=1651025967~hmac=42e78ba54ccde6b1539b3fe60d762c5b969f2594f1a1e9d10fb0f333391cac9a&w=1380\" width=\"60%\"></p>\n",
        "\n",
        "\n",
        "\n",
        "Em empresas de telecom, o churn mensal médio oscila entre 2% e 3% da base ativa. Desta forma, para uma empresa continuar crescendo sua base ela precisa conquistar novos clientes à uma taxa maior do que essa.\n",
        "\n",
        "Essa métrica é acompanhada de perto nas empresas, pois podem revelar problemas comuns entre os clientes, além de impactar diretamente na receita da empresa. Ademais, o custo de aquisição de um novo cliente é muito superior ao custo de manter um cliente.\n",
        "\n",
        "Neste trabalho, são utilizados dados de uma empresa de telecom que foram disponibilizados pela [IBM](https://developer.ibm.com/technologies/data-science/patterns/predict-customer-churn-using-watson-studio-and-jupyter-notebooks/#) e também no kaggle. "
      ],
      "metadata": {
        "id": "R4dNxEygUXGS"
      }
    },
    {
      "cell_type": "markdown",
      "source": [
        "\n",
        "\n",
        "O objetivo central do estudo é identificar qual é o melhor modelo de machine learning para detectar clientes que irão abandonar a empresa, dando margem para empresa trabalhar estes clientes antes de seu abandono.\n",
        "\n",
        "Após a identficação do melhor modelo, ele terá seus hiperparâmetros tratados buscando aumentar a eficiência dos resultados."
      ],
      "metadata": {
        "id": "uLibpK-68sT2"
      }
    },
    {
      "cell_type": "markdown",
      "source": [
        "Para mais projetos feitos por mim, favor acessar o meu [github](https://github.com/fellipe753/portfolio) ou o meu [linkedin](https://www.linkedin.com/in/fellipe-oliveira/)."
      ],
      "metadata": {
        "id": "fA1__t1y7tNO"
      }
    },
    {
      "cell_type": "markdown",
      "source": [
        "# 1 - Imports"
      ],
      "metadata": {
        "id": "9MHCR961fzOo"
      }
    },
    {
      "cell_type": "markdown",
      "source": [
        "## 1.1 Import de bibliotecas "
      ],
      "metadata": {
        "id": "JHnqKBVmglAH"
      }
    },
    {
      "cell_type": "code",
      "execution_count": 1,
      "metadata": {
        "id": "P717LZjGfvdT"
      },
      "outputs": [],
      "source": [
        "import pandas as pd\n",
        "import numpy as np\n",
        "np.random.seed(42)\n",
        "\n",
        "from pandas_profiling import ProfileReport\n",
        "import matplotlib.pyplot as plt \n",
        "import seaborn as sns\n",
        "\n",
        "!pip install -q scikit-plot\n",
        "import scikitplot as skplt\n",
        "\n",
        "import warnings\n",
        "warnings.filterwarnings('ignore')\n",
        "\n",
        "from sklearn.preprocessing import StandardScaler, LabelEncoder\n",
        "from sklearn.model_selection import train_test_split\n",
        "from imblearn.under_sampling import RandomUnderSampler\n",
        "from imblearn.over_sampling import SMOTE\n",
        "# from imblearn.over_sampling import RandomOverSampler\n",
        "from sklearn.pipeline import make_pipeline\n",
        "from sklearn.model_selection import cross_val_score\n",
        "\n",
        "from sklearn.tree import DecisionTreeClassifier\n",
        "from sklearn.ensemble import RandomForestClassifier\n",
        "from sklearn.linear_model import LogisticRegression\n",
        "from sklearn.linear_model import SGDClassifier\n",
        "from xgboost import XGBClassifier\n",
        "from sklearn.model_selection import StratifiedKFold\n",
        "from sklearn.model_selection import GridSearchCV\n",
        "from sklearn.metrics import roc_auc_score, accuracy_score, f1_score, confusion_matrix, classification_report"
      ]
    },
    {
      "cell_type": "markdown",
      "source": [
        "## 1.2 - Aquisição dos Dados"
      ],
      "metadata": {
        "id": "CikY7Vw5gmwd"
      }
    },
    {
      "cell_type": "code",
      "source": [
        "df = pd.read_csv('https://raw.githubusercontent.com/carlosfab/dsnp2/master/datasets/WA_Fn-UseC_-Telco-Customer-Churn.csv')\n",
        "df.head()"
      ],
      "metadata": {
        "colab": {
          "base_uri": "https://localhost:8080/",
          "height": 386
        },
        "id": "oARI3Qlbf1kV",
        "outputId": "d86ab459-af07-4e8e-d1e6-91d20a24baba"
      },
      "execution_count": 2,
      "outputs": [
        {
          "output_type": "execute_result",
          "data": {
            "text/plain": [
              "   customerID  gender  SeniorCitizen Partner Dependents  tenure PhoneService  \\\n",
              "0  7590-VHVEG  Female              0     Yes         No       1           No   \n",
              "1  5575-GNVDE    Male              0      No         No      34          Yes   \n",
              "2  3668-QPYBK    Male              0      No         No       2          Yes   \n",
              "3  7795-CFOCW    Male              0      No         No      45           No   \n",
              "4  9237-HQITU  Female              0      No         No       2          Yes   \n",
              "\n",
              "      MultipleLines InternetService OnlineSecurity  ... DeviceProtection  \\\n",
              "0  No phone service             DSL             No  ...               No   \n",
              "1                No             DSL            Yes  ...              Yes   \n",
              "2                No             DSL            Yes  ...               No   \n",
              "3  No phone service             DSL            Yes  ...              Yes   \n",
              "4                No     Fiber optic             No  ...               No   \n",
              "\n",
              "  TechSupport StreamingTV StreamingMovies        Contract PaperlessBilling  \\\n",
              "0          No          No              No  Month-to-month              Yes   \n",
              "1          No          No              No        One year               No   \n",
              "2          No          No              No  Month-to-month              Yes   \n",
              "3         Yes          No              No        One year               No   \n",
              "4          No          No              No  Month-to-month              Yes   \n",
              "\n",
              "               PaymentMethod MonthlyCharges  TotalCharges Churn  \n",
              "0           Electronic check          29.85         29.85    No  \n",
              "1               Mailed check          56.95        1889.5    No  \n",
              "2               Mailed check          53.85        108.15   Yes  \n",
              "3  Bank transfer (automatic)          42.30       1840.75    No  \n",
              "4           Electronic check          70.70        151.65   Yes  \n",
              "\n",
              "[5 rows x 21 columns]"
            ],
            "text/html": [
              "\n",
              "  <div id=\"df-a10dbcbc-df53-4dbd-90f4-f50ef6c7779c\">\n",
              "    <div class=\"colab-df-container\">\n",
              "      <div>\n",
              "<style scoped>\n",
              "    .dataframe tbody tr th:only-of-type {\n",
              "        vertical-align: middle;\n",
              "    }\n",
              "\n",
              "    .dataframe tbody tr th {\n",
              "        vertical-align: top;\n",
              "    }\n",
              "\n",
              "    .dataframe thead th {\n",
              "        text-align: right;\n",
              "    }\n",
              "</style>\n",
              "<table border=\"1\" class=\"dataframe\">\n",
              "  <thead>\n",
              "    <tr style=\"text-align: right;\">\n",
              "      <th></th>\n",
              "      <th>customerID</th>\n",
              "      <th>gender</th>\n",
              "      <th>SeniorCitizen</th>\n",
              "      <th>Partner</th>\n",
              "      <th>Dependents</th>\n",
              "      <th>tenure</th>\n",
              "      <th>PhoneService</th>\n",
              "      <th>MultipleLines</th>\n",
              "      <th>InternetService</th>\n",
              "      <th>OnlineSecurity</th>\n",
              "      <th>...</th>\n",
              "      <th>DeviceProtection</th>\n",
              "      <th>TechSupport</th>\n",
              "      <th>StreamingTV</th>\n",
              "      <th>StreamingMovies</th>\n",
              "      <th>Contract</th>\n",
              "      <th>PaperlessBilling</th>\n",
              "      <th>PaymentMethod</th>\n",
              "      <th>MonthlyCharges</th>\n",
              "      <th>TotalCharges</th>\n",
              "      <th>Churn</th>\n",
              "    </tr>\n",
              "  </thead>\n",
              "  <tbody>\n",
              "    <tr>\n",
              "      <th>0</th>\n",
              "      <td>7590-VHVEG</td>\n",
              "      <td>Female</td>\n",
              "      <td>0</td>\n",
              "      <td>Yes</td>\n",
              "      <td>No</td>\n",
              "      <td>1</td>\n",
              "      <td>No</td>\n",
              "      <td>No phone service</td>\n",
              "      <td>DSL</td>\n",
              "      <td>No</td>\n",
              "      <td>...</td>\n",
              "      <td>No</td>\n",
              "      <td>No</td>\n",
              "      <td>No</td>\n",
              "      <td>No</td>\n",
              "      <td>Month-to-month</td>\n",
              "      <td>Yes</td>\n",
              "      <td>Electronic check</td>\n",
              "      <td>29.85</td>\n",
              "      <td>29.85</td>\n",
              "      <td>No</td>\n",
              "    </tr>\n",
              "    <tr>\n",
              "      <th>1</th>\n",
              "      <td>5575-GNVDE</td>\n",
              "      <td>Male</td>\n",
              "      <td>0</td>\n",
              "      <td>No</td>\n",
              "      <td>No</td>\n",
              "      <td>34</td>\n",
              "      <td>Yes</td>\n",
              "      <td>No</td>\n",
              "      <td>DSL</td>\n",
              "      <td>Yes</td>\n",
              "      <td>...</td>\n",
              "      <td>Yes</td>\n",
              "      <td>No</td>\n",
              "      <td>No</td>\n",
              "      <td>No</td>\n",
              "      <td>One year</td>\n",
              "      <td>No</td>\n",
              "      <td>Mailed check</td>\n",
              "      <td>56.95</td>\n",
              "      <td>1889.5</td>\n",
              "      <td>No</td>\n",
              "    </tr>\n",
              "    <tr>\n",
              "      <th>2</th>\n",
              "      <td>3668-QPYBK</td>\n",
              "      <td>Male</td>\n",
              "      <td>0</td>\n",
              "      <td>No</td>\n",
              "      <td>No</td>\n",
              "      <td>2</td>\n",
              "      <td>Yes</td>\n",
              "      <td>No</td>\n",
              "      <td>DSL</td>\n",
              "      <td>Yes</td>\n",
              "      <td>...</td>\n",
              "      <td>No</td>\n",
              "      <td>No</td>\n",
              "      <td>No</td>\n",
              "      <td>No</td>\n",
              "      <td>Month-to-month</td>\n",
              "      <td>Yes</td>\n",
              "      <td>Mailed check</td>\n",
              "      <td>53.85</td>\n",
              "      <td>108.15</td>\n",
              "      <td>Yes</td>\n",
              "    </tr>\n",
              "    <tr>\n",
              "      <th>3</th>\n",
              "      <td>7795-CFOCW</td>\n",
              "      <td>Male</td>\n",
              "      <td>0</td>\n",
              "      <td>No</td>\n",
              "      <td>No</td>\n",
              "      <td>45</td>\n",
              "      <td>No</td>\n",
              "      <td>No phone service</td>\n",
              "      <td>DSL</td>\n",
              "      <td>Yes</td>\n",
              "      <td>...</td>\n",
              "      <td>Yes</td>\n",
              "      <td>Yes</td>\n",
              "      <td>No</td>\n",
              "      <td>No</td>\n",
              "      <td>One year</td>\n",
              "      <td>No</td>\n",
              "      <td>Bank transfer (automatic)</td>\n",
              "      <td>42.30</td>\n",
              "      <td>1840.75</td>\n",
              "      <td>No</td>\n",
              "    </tr>\n",
              "    <tr>\n",
              "      <th>4</th>\n",
              "      <td>9237-HQITU</td>\n",
              "      <td>Female</td>\n",
              "      <td>0</td>\n",
              "      <td>No</td>\n",
              "      <td>No</td>\n",
              "      <td>2</td>\n",
              "      <td>Yes</td>\n",
              "      <td>No</td>\n",
              "      <td>Fiber optic</td>\n",
              "      <td>No</td>\n",
              "      <td>...</td>\n",
              "      <td>No</td>\n",
              "      <td>No</td>\n",
              "      <td>No</td>\n",
              "      <td>No</td>\n",
              "      <td>Month-to-month</td>\n",
              "      <td>Yes</td>\n",
              "      <td>Electronic check</td>\n",
              "      <td>70.70</td>\n",
              "      <td>151.65</td>\n",
              "      <td>Yes</td>\n",
              "    </tr>\n",
              "  </tbody>\n",
              "</table>\n",
              "<p>5 rows × 21 columns</p>\n",
              "</div>\n",
              "      <button class=\"colab-df-convert\" onclick=\"convertToInteractive('df-a10dbcbc-df53-4dbd-90f4-f50ef6c7779c')\"\n",
              "              title=\"Convert this dataframe to an interactive table.\"\n",
              "              style=\"display:none;\">\n",
              "        \n",
              "  <svg xmlns=\"http://www.w3.org/2000/svg\" height=\"24px\"viewBox=\"0 0 24 24\"\n",
              "       width=\"24px\">\n",
              "    <path d=\"M0 0h24v24H0V0z\" fill=\"none\"/>\n",
              "    <path d=\"M18.56 5.44l.94 2.06.94-2.06 2.06-.94-2.06-.94-.94-2.06-.94 2.06-2.06.94zm-11 1L8.5 8.5l.94-2.06 2.06-.94-2.06-.94L8.5 2.5l-.94 2.06-2.06.94zm10 10l.94 2.06.94-2.06 2.06-.94-2.06-.94-.94-2.06-.94 2.06-2.06.94z\"/><path d=\"M17.41 7.96l-1.37-1.37c-.4-.4-.92-.59-1.43-.59-.52 0-1.04.2-1.43.59L10.3 9.45l-7.72 7.72c-.78.78-.78 2.05 0 2.83L4 21.41c.39.39.9.59 1.41.59.51 0 1.02-.2 1.41-.59l7.78-7.78 2.81-2.81c.8-.78.8-2.07 0-2.86zM5.41 20L4 18.59l7.72-7.72 1.47 1.35L5.41 20z\"/>\n",
              "  </svg>\n",
              "      </button>\n",
              "      \n",
              "  <style>\n",
              "    .colab-df-container {\n",
              "      display:flex;\n",
              "      flex-wrap:wrap;\n",
              "      gap: 12px;\n",
              "    }\n",
              "\n",
              "    .colab-df-convert {\n",
              "      background-color: #E8F0FE;\n",
              "      border: none;\n",
              "      border-radius: 50%;\n",
              "      cursor: pointer;\n",
              "      display: none;\n",
              "      fill: #1967D2;\n",
              "      height: 32px;\n",
              "      padding: 0 0 0 0;\n",
              "      width: 32px;\n",
              "    }\n",
              "\n",
              "    .colab-df-convert:hover {\n",
              "      background-color: #E2EBFA;\n",
              "      box-shadow: 0px 1px 2px rgba(60, 64, 67, 0.3), 0px 1px 3px 1px rgba(60, 64, 67, 0.15);\n",
              "      fill: #174EA6;\n",
              "    }\n",
              "\n",
              "    [theme=dark] .colab-df-convert {\n",
              "      background-color: #3B4455;\n",
              "      fill: #D2E3FC;\n",
              "    }\n",
              "\n",
              "    [theme=dark] .colab-df-convert:hover {\n",
              "      background-color: #434B5C;\n",
              "      box-shadow: 0px 1px 3px 1px rgba(0, 0, 0, 0.15);\n",
              "      filter: drop-shadow(0px 1px 2px rgba(0, 0, 0, 0.3));\n",
              "      fill: #FFFFFF;\n",
              "    }\n",
              "  </style>\n",
              "\n",
              "      <script>\n",
              "        const buttonEl =\n",
              "          document.querySelector('#df-a10dbcbc-df53-4dbd-90f4-f50ef6c7779c button.colab-df-convert');\n",
              "        buttonEl.style.display =\n",
              "          google.colab.kernel.accessAllowed ? 'block' : 'none';\n",
              "\n",
              "        async function convertToInteractive(key) {\n",
              "          const element = document.querySelector('#df-a10dbcbc-df53-4dbd-90f4-f50ef6c7779c');\n",
              "          const dataTable =\n",
              "            await google.colab.kernel.invokeFunction('convertToInteractive',\n",
              "                                                     [key], {});\n",
              "          if (!dataTable) return;\n",
              "\n",
              "          const docLinkHtml = 'Like what you see? Visit the ' +\n",
              "            '<a target=\"_blank\" href=https://colab.research.google.com/notebooks/data_table.ipynb>data table notebook</a>'\n",
              "            + ' to learn more about interactive tables.';\n",
              "          element.innerHTML = '';\n",
              "          dataTable['output_type'] = 'display_data';\n",
              "          await google.colab.output.renderOutput(dataTable, element);\n",
              "          const docLink = document.createElement('div');\n",
              "          docLink.innerHTML = docLinkHtml;\n",
              "          element.appendChild(docLink);\n",
              "        }\n",
              "      </script>\n",
              "    </div>\n",
              "  </div>\n",
              "  "
            ]
          },
          "metadata": {},
          "execution_count": 2
        }
      ]
    },
    {
      "cell_type": "code",
      "source": [
        "#iremos dropar a coluna customerID que não enriquece o estudo, antes iremos copiar o dataset para manter o original\n",
        "df_clean = df.copy()\n",
        "df_clean.drop(columns=['customerID'], inplace=True)"
      ],
      "metadata": {
        "id": "63P1nd0Pf77w"
      },
      "execution_count": 3,
      "outputs": []
    },
    {
      "cell_type": "markdown",
      "source": [
        "## 1.3 - Dicionário de Variáveis\n",
        "\n",
        "* `customerID`: identificação única do cliente\n",
        "* `gender`: gênero do cliente\n",
        "* `SeniorCitizen`: cliente é idoso ou não\n",
        "* `Partner`: cliente possui um parceiro(a) ou não\n",
        "* `Dependents`: cliente possui dependentes ou não\n",
        "* `tenure`: quanto tempo o cliente está na empresa\n",
        "* `PhoneService`: cliente possui serviços telefônicos ou não\n",
        "* `MultipleLines`: cliente possui múltiplas linhas de telefone ou não\n",
        "* `InternetService`: cliente possui serviços de internet ou não \n",
        "* `OnlineSecurity`: cliente possui serviços de segurança na internet ou não\n",
        "* `OnlineBackup`: cliente possui serviços de backup na internet ou não\n",
        "* `DeviceProtection`: cliente possui serviços de proteção de seu equipamento ou não\n",
        "* `TechSupport`: cliente possui serviços de suporte técnico na internet ou não\n",
        "* `StreamingTV`: cliente possui serviços de TV por streaming ou não\n",
        "* `StreamingMovies`: cliente possui também serviço de streaming para Filmes ou não\n",
        "* `Contract`: identifica se o contrato do cliente é mensal, anual ou de dois anos\n",
        "* `PaperlessBilling`: identifica se o faturamento é online\n",
        "* `PaymentMethod`: identifica se a forma de pagamento é cheque eletrônico, transferência bancária e cartão de crédito\n",
        "* `MonthlyCharges`: valor das contas mensais\n",
        "* `TotalCharges`: valor total pago enquanto cliente\n",
        "* `Churn`: Se o cliente já saiu ou está na empresa "
      ],
      "metadata": {
        "id": "j4EBTsTrgsl2"
      }
    },
    {
      "cell_type": "markdown",
      "source": [
        "# 2 - Análise Exploratória dos Dados"
      ],
      "metadata": {
        "id": "IIEGwTU8gvtC"
      }
    },
    {
      "cell_type": "markdown",
      "source": [
        "# 2.1 - Análise das Variáveis e Nulos\n",
        "\n",
        "Aqui identificamos que a variável `TotalCharges` precisa ser alterada para float, além de possuir 11 entradas nulas que são preenchidas com a mediana dos valores da variável."
      ],
      "metadata": {
        "id": "j1pATW4XgxVa"
      }
    },
    {
      "cell_type": "code",
      "source": [
        "print(f'Variáveis do dataset: {df_clean.shape[1]}\\nTotal de linhas do dastaset: {df_clean.shape[0]}\\n')"
      ],
      "metadata": {
        "colab": {
          "base_uri": "https://localhost:8080/"
        },
        "id": "YoM_3nn9gzeK",
        "outputId": "de48aaaa-4f1f-416b-b0a2-936dfa9ed87c"
      },
      "execution_count": 4,
      "outputs": [
        {
          "output_type": "stream",
          "name": "stdout",
          "text": [
            "Variáveis do dataset: 20\n",
            "Total de linhas do dastaset: 7043\n",
            "\n"
          ]
        }
      ]
    },
    {
      "cell_type": "code",
      "source": [
        "#verificando o tipo das variáveis\n",
        "df_clean.dtypes"
      ],
      "metadata": {
        "colab": {
          "base_uri": "https://localhost:8080/"
        },
        "id": "FgN7J9hpg8Dm",
        "outputId": "b215f328-0514-4e0d-d36c-c8277e16d493"
      },
      "execution_count": 5,
      "outputs": [
        {
          "output_type": "execute_result",
          "data": {
            "text/plain": [
              "gender               object\n",
              "SeniorCitizen         int64\n",
              "Partner              object\n",
              "Dependents           object\n",
              "tenure                int64\n",
              "PhoneService         object\n",
              "MultipleLines        object\n",
              "InternetService      object\n",
              "OnlineSecurity       object\n",
              "OnlineBackup         object\n",
              "DeviceProtection     object\n",
              "TechSupport          object\n",
              "StreamingTV          object\n",
              "StreamingMovies      object\n",
              "Contract             object\n",
              "PaperlessBilling     object\n",
              "PaymentMethod        object\n",
              "MonthlyCharges      float64\n",
              "TotalCharges         object\n",
              "Churn                object\n",
              "dtype: object"
            ]
          },
          "metadata": {},
          "execution_count": 5
        }
      ]
    },
    {
      "cell_type": "code",
      "source": [
        "# passando a coluna para float\n",
        "df_clean['TotalCharges'] = pd.to_numeric(df_clean[\"TotalCharges\"], errors='coerce')"
      ],
      "metadata": {
        "id": "tKvNT2hng99T"
      },
      "execution_count": 6,
      "outputs": []
    },
    {
      "cell_type": "code",
      "source": [
        "#verificando a quantidade de nulos. Identificamos 11 valores nulos na coluna TotalCharges\n",
        "df_clean.isnull().sum() #(df.isnull().sum() / df.shape[0]).sort_values(ascending=False)"
      ],
      "metadata": {
        "colab": {
          "base_uri": "https://localhost:8080/"
        },
        "id": "1VkJhWzyg-9S",
        "outputId": "7c76236c-bf15-4a3a-ff31-79f75942333f"
      },
      "execution_count": 7,
      "outputs": [
        {
          "output_type": "execute_result",
          "data": {
            "text/plain": [
              "gender               0\n",
              "SeniorCitizen        0\n",
              "Partner              0\n",
              "Dependents           0\n",
              "tenure               0\n",
              "PhoneService         0\n",
              "MultipleLines        0\n",
              "InternetService      0\n",
              "OnlineSecurity       0\n",
              "OnlineBackup         0\n",
              "DeviceProtection     0\n",
              "TechSupport          0\n",
              "StreamingTV          0\n",
              "StreamingMovies      0\n",
              "Contract             0\n",
              "PaperlessBilling     0\n",
              "PaymentMethod        0\n",
              "MonthlyCharges       0\n",
              "TotalCharges        11\n",
              "Churn                0\n",
              "dtype: int64"
            ]
          },
          "metadata": {},
          "execution_count": 7
        }
      ]
    },
    {
      "cell_type": "code",
      "source": [
        "# substituindo os valores nulos pela mediana dos valores da coluna\n",
        "median_totalcharges = df_clean['TotalCharges'].median()\n",
        "df_clean['TotalCharges'].fillna(median_totalcharges, inplace=True)\n",
        "print(f'Total de valores vazios na variável TotalCharges após o tratamento é de: {df_clean[\"TotalCharges\"].isnull().sum()}')"
      ],
      "metadata": {
        "colab": {
          "base_uri": "https://localhost:8080/"
        },
        "id": "S-WvJyGKhAc3",
        "outputId": "ccdda46a-29e3-48a6-dd4f-88cf6a9a1291"
      },
      "execution_count": 8,
      "outputs": [
        {
          "output_type": "stream",
          "name": "stdout",
          "text": [
            "Total de valores vazios na variável TotalCharges após o tratamento é de: 0\n"
          ]
        }
      ]
    },
    {
      "cell_type": "code",
      "source": [
        "#verificando quantos valores únicos possui em cada variável\n",
        "df.nunique()"
      ],
      "metadata": {
        "colab": {
          "base_uri": "https://localhost:8080/"
        },
        "id": "eUKyJ3HjhEAj",
        "outputId": "103250d9-6ee0-4843-be3b-1c4718b731bf"
      },
      "execution_count": 9,
      "outputs": [
        {
          "output_type": "execute_result",
          "data": {
            "text/plain": [
              "customerID          7043\n",
              "gender                 2\n",
              "SeniorCitizen          2\n",
              "Partner                2\n",
              "Dependents             2\n",
              "tenure                73\n",
              "PhoneService           2\n",
              "MultipleLines          3\n",
              "InternetService        3\n",
              "OnlineSecurity         3\n",
              "OnlineBackup           3\n",
              "DeviceProtection       3\n",
              "TechSupport            3\n",
              "StreamingTV            3\n",
              "StreamingMovies        3\n",
              "Contract               3\n",
              "PaperlessBilling       2\n",
              "PaymentMethod          4\n",
              "MonthlyCharges      1585\n",
              "TotalCharges        6531\n",
              "Churn                  2\n",
              "dtype: int64"
            ]
          },
          "metadata": {},
          "execution_count": 9
        }
      ]
    },
    {
      "cell_type": "code",
      "source": [
        "#Resumo estatístico das variáveis numéricas do dataset\n",
        "df_clean.describe()"
      ],
      "metadata": {
        "colab": {
          "base_uri": "https://localhost:8080/",
          "height": 300
        },
        "id": "WaKA5I5XhF7C",
        "outputId": "15012dd7-5308-4fef-81cb-8ec83e881cdd"
      },
      "execution_count": 10,
      "outputs": [
        {
          "output_type": "execute_result",
          "data": {
            "text/plain": [
              "       SeniorCitizen       tenure  MonthlyCharges  TotalCharges\n",
              "count    7043.000000  7043.000000     7043.000000   7043.000000\n",
              "mean        0.162147    32.371149       64.761692   2281.916928\n",
              "std         0.368612    24.559481       30.090047   2265.270398\n",
              "min         0.000000     0.000000       18.250000     18.800000\n",
              "25%         0.000000     9.000000       35.500000    402.225000\n",
              "50%         0.000000    29.000000       70.350000   1397.475000\n",
              "75%         0.000000    55.000000       89.850000   3786.600000\n",
              "max         1.000000    72.000000      118.750000   8684.800000"
            ],
            "text/html": [
              "\n",
              "  <div id=\"df-591da2e1-8376-465e-ac68-22070594bc27\">\n",
              "    <div class=\"colab-df-container\">\n",
              "      <div>\n",
              "<style scoped>\n",
              "    .dataframe tbody tr th:only-of-type {\n",
              "        vertical-align: middle;\n",
              "    }\n",
              "\n",
              "    .dataframe tbody tr th {\n",
              "        vertical-align: top;\n",
              "    }\n",
              "\n",
              "    .dataframe thead th {\n",
              "        text-align: right;\n",
              "    }\n",
              "</style>\n",
              "<table border=\"1\" class=\"dataframe\">\n",
              "  <thead>\n",
              "    <tr style=\"text-align: right;\">\n",
              "      <th></th>\n",
              "      <th>SeniorCitizen</th>\n",
              "      <th>tenure</th>\n",
              "      <th>MonthlyCharges</th>\n",
              "      <th>TotalCharges</th>\n",
              "    </tr>\n",
              "  </thead>\n",
              "  <tbody>\n",
              "    <tr>\n",
              "      <th>count</th>\n",
              "      <td>7043.000000</td>\n",
              "      <td>7043.000000</td>\n",
              "      <td>7043.000000</td>\n",
              "      <td>7043.000000</td>\n",
              "    </tr>\n",
              "    <tr>\n",
              "      <th>mean</th>\n",
              "      <td>0.162147</td>\n",
              "      <td>32.371149</td>\n",
              "      <td>64.761692</td>\n",
              "      <td>2281.916928</td>\n",
              "    </tr>\n",
              "    <tr>\n",
              "      <th>std</th>\n",
              "      <td>0.368612</td>\n",
              "      <td>24.559481</td>\n",
              "      <td>30.090047</td>\n",
              "      <td>2265.270398</td>\n",
              "    </tr>\n",
              "    <tr>\n",
              "      <th>min</th>\n",
              "      <td>0.000000</td>\n",
              "      <td>0.000000</td>\n",
              "      <td>18.250000</td>\n",
              "      <td>18.800000</td>\n",
              "    </tr>\n",
              "    <tr>\n",
              "      <th>25%</th>\n",
              "      <td>0.000000</td>\n",
              "      <td>9.000000</td>\n",
              "      <td>35.500000</td>\n",
              "      <td>402.225000</td>\n",
              "    </tr>\n",
              "    <tr>\n",
              "      <th>50%</th>\n",
              "      <td>0.000000</td>\n",
              "      <td>29.000000</td>\n",
              "      <td>70.350000</td>\n",
              "      <td>1397.475000</td>\n",
              "    </tr>\n",
              "    <tr>\n",
              "      <th>75%</th>\n",
              "      <td>0.000000</td>\n",
              "      <td>55.000000</td>\n",
              "      <td>89.850000</td>\n",
              "      <td>3786.600000</td>\n",
              "    </tr>\n",
              "    <tr>\n",
              "      <th>max</th>\n",
              "      <td>1.000000</td>\n",
              "      <td>72.000000</td>\n",
              "      <td>118.750000</td>\n",
              "      <td>8684.800000</td>\n",
              "    </tr>\n",
              "  </tbody>\n",
              "</table>\n",
              "</div>\n",
              "      <button class=\"colab-df-convert\" onclick=\"convertToInteractive('df-591da2e1-8376-465e-ac68-22070594bc27')\"\n",
              "              title=\"Convert this dataframe to an interactive table.\"\n",
              "              style=\"display:none;\">\n",
              "        \n",
              "  <svg xmlns=\"http://www.w3.org/2000/svg\" height=\"24px\"viewBox=\"0 0 24 24\"\n",
              "       width=\"24px\">\n",
              "    <path d=\"M0 0h24v24H0V0z\" fill=\"none\"/>\n",
              "    <path d=\"M18.56 5.44l.94 2.06.94-2.06 2.06-.94-2.06-.94-.94-2.06-.94 2.06-2.06.94zm-11 1L8.5 8.5l.94-2.06 2.06-.94-2.06-.94L8.5 2.5l-.94 2.06-2.06.94zm10 10l.94 2.06.94-2.06 2.06-.94-2.06-.94-.94-2.06-.94 2.06-2.06.94z\"/><path d=\"M17.41 7.96l-1.37-1.37c-.4-.4-.92-.59-1.43-.59-.52 0-1.04.2-1.43.59L10.3 9.45l-7.72 7.72c-.78.78-.78 2.05 0 2.83L4 21.41c.39.39.9.59 1.41.59.51 0 1.02-.2 1.41-.59l7.78-7.78 2.81-2.81c.8-.78.8-2.07 0-2.86zM5.41 20L4 18.59l7.72-7.72 1.47 1.35L5.41 20z\"/>\n",
              "  </svg>\n",
              "      </button>\n",
              "      \n",
              "  <style>\n",
              "    .colab-df-container {\n",
              "      display:flex;\n",
              "      flex-wrap:wrap;\n",
              "      gap: 12px;\n",
              "    }\n",
              "\n",
              "    .colab-df-convert {\n",
              "      background-color: #E8F0FE;\n",
              "      border: none;\n",
              "      border-radius: 50%;\n",
              "      cursor: pointer;\n",
              "      display: none;\n",
              "      fill: #1967D2;\n",
              "      height: 32px;\n",
              "      padding: 0 0 0 0;\n",
              "      width: 32px;\n",
              "    }\n",
              "\n",
              "    .colab-df-convert:hover {\n",
              "      background-color: #E2EBFA;\n",
              "      box-shadow: 0px 1px 2px rgba(60, 64, 67, 0.3), 0px 1px 3px 1px rgba(60, 64, 67, 0.15);\n",
              "      fill: #174EA6;\n",
              "    }\n",
              "\n",
              "    [theme=dark] .colab-df-convert {\n",
              "      background-color: #3B4455;\n",
              "      fill: #D2E3FC;\n",
              "    }\n",
              "\n",
              "    [theme=dark] .colab-df-convert:hover {\n",
              "      background-color: #434B5C;\n",
              "      box-shadow: 0px 1px 3px 1px rgba(0, 0, 0, 0.15);\n",
              "      filter: drop-shadow(0px 1px 2px rgba(0, 0, 0, 0.3));\n",
              "      fill: #FFFFFF;\n",
              "    }\n",
              "  </style>\n",
              "\n",
              "      <script>\n",
              "        const buttonEl =\n",
              "          document.querySelector('#df-591da2e1-8376-465e-ac68-22070594bc27 button.colab-df-convert');\n",
              "        buttonEl.style.display =\n",
              "          google.colab.kernel.accessAllowed ? 'block' : 'none';\n",
              "\n",
              "        async function convertToInteractive(key) {\n",
              "          const element = document.querySelector('#df-591da2e1-8376-465e-ac68-22070594bc27');\n",
              "          const dataTable =\n",
              "            await google.colab.kernel.invokeFunction('convertToInteractive',\n",
              "                                                     [key], {});\n",
              "          if (!dataTable) return;\n",
              "\n",
              "          const docLinkHtml = 'Like what you see? Visit the ' +\n",
              "            '<a target=\"_blank\" href=https://colab.research.google.com/notebooks/data_table.ipynb>data table notebook</a>'\n",
              "            + ' to learn more about interactive tables.';\n",
              "          element.innerHTML = '';\n",
              "          dataTable['output_type'] = 'display_data';\n",
              "          await google.colab.output.renderOutput(dataTable, element);\n",
              "          const docLink = document.createElement('div');\n",
              "          docLink.innerHTML = docLinkHtml;\n",
              "          element.appendChild(docLink);\n",
              "        }\n",
              "      </script>\n",
              "    </div>\n",
              "  </div>\n",
              "  "
            ]
          },
          "metadata": {},
          "execution_count": 10
        }
      ]
    },
    {
      "cell_type": "markdown",
      "source": [
        "## 2.2 Panda Profiling\n",
        "\n",
        "Utilizando da biblioteca do Pandas Profiling, executamos com poucas linhas de código uma análise exploratória bem completa para os dados do `dataset` que pode nos trazer insights para trabalhar com as variáveis."
      ],
      "metadata": {
        "id": "_DMwtYD5g32z"
      }
    },
    {
      "cell_type": "code",
      "source": [
        "# report = ProfileReport(df_clean)\n",
        "# report.to_notebook_iframe()"
      ],
      "metadata": {
        "id": "cdKxhIbqg4Gi"
      },
      "execution_count": 11,
      "outputs": []
    },
    {
      "cell_type": "markdown",
      "source": [
        "##2.3 Gráficos\n",
        "\n",
        "Abaixo é ilustrado gráficos de algumas variáveis que acredito serem importantes para a análise. "
      ],
      "metadata": {
        "id": "NpGK7raJhR1c"
      }
    },
    {
      "cell_type": "markdown",
      "source": [
        "### a) Clientes na base vs clientes que evadiram (churn)\n",
        "\n",
        "Podemos notar que a classe é bem desbalanceada, com cerca de 73% dos clientes ainda ativos e 27% dos clientes inativos."
      ],
      "metadata": {
        "id": "6kYOrv-npbgO"
      }
    },
    {
      "cell_type": "code",
      "source": [
        "cores = ['#15AD94','#FA7946']\n",
        "green = '#15AD94'\n",
        "orange = '#FA7946'\n",
        "cor_title ='#555555'\n",
        "#cores = ['#6280AD','#FABF48']"
      ],
      "metadata": {
        "id": "Hzr-xZjBhgdU"
      },
      "execution_count": 12,
      "outputs": []
    },
    {
      "cell_type": "code",
      "source": [
        "fig, ax = plt.subplots(figsize=(12,6))\n",
        "\n",
        "x = round((df_clean['Churn'].value_counts() * 100 / len(df_clean)),2)\n",
        "x.plot(kind='bar', color=cores, ax=ax,rot=0)\n",
        "\n",
        "ax.spines['right'].set_visible(False)\n",
        "ax.spines['top'].set_visible(False)\n",
        "\n",
        "# for i in range(len(x)):\n",
        "#   plt.text(i,x[i],x[i], ha='center',va='bottom', fontsize=13)\n",
        "\n",
        "print(f'{x[0]}% ({(df_clean.Churn == \"No\").sum()}) são clientes ainda ativos.\\n{x[1]}% ou ({(df_clean.Churn == \"Yes\").sum()}) são clientes que já deixaram a empresa.\\n')\n",
        "ax.set_title('Percentual de clientes ativos vs clientes que evadiram (churn)',fontsize = '14',\n",
        "             color=cor_title,fontweight='bold')\n",
        "\n",
        "plt.tight_layout()"
      ],
      "metadata": {
        "colab": {
          "base_uri": "https://localhost:8080/",
          "height": 495
        },
        "id": "CVxOlp0QphVj",
        "outputId": "3c9a1b59-31ae-4b26-a23d-da06bbaac94f"
      },
      "execution_count": 13,
      "outputs": [
        {
          "output_type": "stream",
          "name": "stdout",
          "text": [
            "73.46% (5174) são clientes ainda ativos.\n",
            "26.54% ou (1869) são clientes que já deixaram a empresa.\n",
            "\n"
          ]
        },
        {
          "output_type": "display_data",
          "data": {
            "text/plain": [
              "<Figure size 864x432 with 1 Axes>"
            ],
            "image/png": "[encoded data removed]"
          },
          "metadata": {
            "needs_background": "light"
          }
        }
      ]
    },
    {
      "cell_type": "markdown",
      "source": [
        "### b) Quantidade de clientes por gênero\n",
        "\n",
        "Aqui é apresentado a quantidade de clientes por gênero para a base completa e para os clientes com churn.\n",
        "\n",
        "A distribuição é muito similar em ambos os casos, ficando praticamente divido em 50% de homens e mulheres."
      ],
      "metadata": {
        "id": "76_BUO9JoemY"
      }
    },
    {
      "cell_type": "code",
      "source": [
        "fig, ax = plt.subplots(figsize=(12,6), nrows=1, ncols=2)\n",
        "fig.suptitle('Percentual de Clientes por Gênero', y=1.05, \n",
        "             fontsize = '14',color=cor_title,fontweight='bold' )\n",
        "\n",
        "x = round((df_clean[df_clean.Churn == 'No'].gender.value_counts() * 100 / len(df_clean[df_clean.Churn == 'No'])),2).sort_values(ascending=False)\n",
        "x.plot(kind='bar', color=green, ax=ax[0],rot=0)\n",
        "\n",
        "ax[0].set_title('Base Ativa')\n",
        "ax[0].spines['right'].set_visible(False)\n",
        "ax[0].spines['top'].set_visible(False)\n",
        "\n",
        "y = round((df_clean[df_clean.Churn == 'Yes'].gender.value_counts() * 100 / len(df_clean[df_clean.Churn == 'Yes'])),2).sort_values(ascending=False)\n",
        "y.plot(kind='bar', color=orange, ax=ax[1],rot=0)\n",
        "\n",
        "ax[1].set_title('Base Churn')\n",
        "ax[1].spines['right'].set_visible(False)\n",
        "ax[1].spines['top'].set_visible(False)\n",
        "\n",
        "plt.tight_layout()"
      ],
      "metadata": {
        "colab": {
          "base_uri": "https://localhost:8080/",
          "height": 474
        },
        "id": "YMbbxmW4g440",
        "outputId": "27f6cda1-955b-42a3-a3cf-9eccdd9ffd77"
      },
      "execution_count": 14,
      "outputs": [
        {
          "output_type": "display_data",
          "data": {
            "text/plain": [
              "<Figure size 864x432 with 2 Axes>"
            ],
            "image/png": "[encoded data removed]"
          },
          "metadata": {
            "needs_background": "light"
          }
        }
      ]
    },
    {
      "cell_type": "markdown",
      "source": [
        "### c) Tipo de contrato\n",
        "\n",
        "Aqui é apresentado a comparação do tipo de contrato do cliente ativo e churn.\n",
        "\n",
        "Para os clientes ativos temos a seguinte divisão do tipo de contrato:\n",
        "\n",
        "    Month-to-month    42.91%\n",
        "    Two year          31.83%\n",
        "    One year          25.26%\n",
        "Para os clientes churn temos a seguinte divisão do tipo de contrato:\n",
        "\n",
        "    Month-to-month    88.55%\n",
        "    One year           8.88%\n",
        "    Two year           2.57%\n",
        "O tipo de contrato parece ser um das variáveis de peso, pois temos 88% dos clientes churn com esse tipo de contrato vs 43% dos clientes ativos."
      ],
      "metadata": {
        "id": "71XMOmngT5QZ"
      }
    },
    {
      "cell_type": "code",
      "source": [
        "# fazendo cópia do dataframe e separando ele para facilitar a plotagem dos gráficos\n",
        "df_ativo = df_clean.copy()\n",
        "df_ativo = df_ativo[df_ativo.Churn == \"No\"]\n",
        "\n",
        "# fazendo cópia do dataframe e separando ele para facilitar a plotagem dos gráficos\n",
        "df_churn = df_clean.copy()\n",
        "df_churn = df_churn[df_churn.Churn == \"Yes\"]"
      ],
      "metadata": {
        "id": "qwdv0P5RcOw0"
      },
      "execution_count": 15,
      "outputs": []
    },
    {
      "cell_type": "code",
      "source": [
        "verdes = ['#5A7D78','#347D73','#55C9BA']\n",
        "oranges = ['#C98404','#FCA605','#FDC151']\n",
        "\n",
        "fig, ax = plt.subplots(figsize=(12,6), nrows=1, ncols=2)\n",
        "fig.suptitle('Percentual de clientes por tipo de contrato', y=1.05, \n",
        "             fontsize = '14',color=cor_title,fontweight='bold' )\n",
        "\n",
        "x = round((df_ativo['Contract'].value_counts() * 100 / len(df_ativo)),2).sort_values(ascending=False)\n",
        "x.plot(kind='bar', color=verdes, ax=ax[0], rot=0)\n",
        "ax[0].set_title('Base Ativa')\n",
        "ax[0].spines['right'].set_visible(False)\n",
        "ax[0].spines['top'].set_visible(False)\n",
        "\n",
        "y = round((df_churn['Contract'].value_counts() * 100 / len(df_churn)),2).sort_values(ascending=False)\n",
        "y.plot(kind='bar', color=oranges, ax=ax[1], rot=0)\n",
        "ax[1].set_title('Base Churn')\n",
        "ax[1].spines['right'].set_visible(False)\n",
        "ax[1].spines['top'].set_visible(False)\n",
        "\n",
        "plt.tight_layout()"
      ],
      "metadata": {
        "colab": {
          "base_uri": "https://localhost:8080/",
          "height": 474
        },
        "id": "oSfrFMd1RZbn",
        "outputId": "8dba5575-3673-436a-a5ba-910928703352"
      },
      "execution_count": 16,
      "outputs": [
        {
          "output_type": "display_data",
          "data": {
            "text/plain": [
              "<Figure size 864x432 with 2 Axes>"
            ],
            "image/png": "[encoded data removed]"
          },
          "metadata": {
            "needs_background": "light"
          }
        }
      ]
    },
    {
      "cell_type": "markdown",
      "source": [
        "### d) Distribuição da variável `Tenure`\n",
        "\n",
        "Esta variável indica o tempo em que um cliente permanece ou permaneceu na empresa, é o seu `lifetime`.\n",
        "\n",
        "Aqui é notável a diferença entre os clientes ativos e os clientes churn. \n",
        "\n",
        "* Os clientes ativos tem um lifetime distribuído no tempo, sendo a maior concentração acima de 65 meses.\n",
        "* Os clientes churn tem um lifetime muito concentrado nos primeiros meses, sendo a  maior quantidade com até 10 meses.\n",
        "\n",
        "Esse simples gráfico já trás alguns insights. Talvez o pós venda da empresa não seja eficiente, fazendo com que novos clientes sejam mais suceptíveis ao churn. Um acompanhamento na primeira semana, mês e trimestre seria interessante para tentar reduzir estes números."
      ],
      "metadata": {
        "id": "gMk_qKRM6mEi"
      }
    },
    {
      "cell_type": "code",
      "source": [
        "fig, ax = plt.subplots(nrows=2, ncols=1, figsize=(12,7))\n",
        "num_bins = 14\n",
        "fig.suptitle('Tempo de vida do cliente na empresa', y=1.05, \n",
        "             fontsize = '14',color=cor_title,fontweight='bold' )\n",
        "\n",
        "ax[0].hist(df_clean.tenure[df_clean.Churn == \"No\"], bins=num_bins, color=green, ec='w')\n",
        "ax[0].set_title('Base Ativa')\n",
        "ax[0].spines['right'].set_visible(False)\n",
        "ax[0].spines['top'].set_visible(False)\n",
        "\n",
        "\n",
        "ax[1].hist(df_clean.tenure[df_clean.Churn == \"Yes\"], bins=num_bins, color=orange, ec='w')\n",
        "ax[1].set_title('Base Churn')\n",
        "ax[1].spines['right'].set_visible(False)\n",
        "ax[1].spines['top'].set_visible(False)\n",
        "\n",
        "plt.tight_layout()"
      ],
      "metadata": {
        "id": "3f-nhgYD6loq",
        "colab": {
          "base_uri": "https://localhost:8080/",
          "height": 549
        },
        "outputId": "51cdc0fd-64eb-4152-bc56-3440b268d199"
      },
      "execution_count": 17,
      "outputs": [
        {
          "output_type": "display_data",
          "data": {
            "text/plain": [
              "<Figure size 864x504 with 2 Axes>"
            ],
            "image/png": "[encoded data removed]"
          },
          "metadata": {
            "needs_background": "light"
          }
        }
      ]
    },
    {
      "cell_type": "markdown",
      "source": [
        "### e) Distribuição das variáveis numéricas `MonthlyCharges` e `TotalCharges` \n",
        "\n",
        "`MonthlyCharges` é a variável que se refere as contas mensais dos clientes. Nela notamos:\n",
        "* na base total e na base churn não temos outliers;\n",
        "* a mediana dos valores pagos pelos clientes churn é 23% maior do que da base completa;\n",
        "\n",
        "`TotalCharges` é a variável que se refere ao total de contas que o cliente pagou até o momento. Nela notamos:\n",
        "* na base churn temos outliers;\n",
        "* a mediana dos valores pagos pelos clientes churn é 58% menor do que da base completa, isso se deve ao fato de termos mais clientes ativos com um `tenure` (lifetime) maior do que os clientes que já saíram.\n",
        "\n",
        "\n",
        "O fato da conta mensal ser mais cara chama atenção, mas deve ser analisada com outras variáveis como a forma do contrato, por exemplo.\n",
        "\n",
        "\n",
        "\n"
      ],
      "metadata": {
        "id": "kb1X7iK7wTTs"
      }
    },
    {
      "cell_type": "code",
      "source": [
        "medianprops = dict(linestyle='-', linewidth=1.5, color='dimgray') #linha central do boxplot\n",
        "fig, (ax1, ax2) = plt.subplots(1, 2, figsize=(12,6))\n",
        "\n",
        "box1 = ax1.boxplot([[df_clean.MonthlyCharges[df_clean.Churn=='No']], df_clean.MonthlyCharges[df_clean.Churn=='Yes']], \n",
        "                  labels=['Base Ativa','Base Churn'],patch_artist=True,medianprops=medianprops);\n",
        "\n",
        "ax1.set_title('MonthlyCharges', fontsize = '14',color=cor_title,fontweight='bold' )\n",
        "ax1.spines['right'].set_visible(False)\n",
        "ax1.spines['top'].set_visible(False)\n",
        "ax1.spines['bottom'].set_visible(False) \n",
        "\n",
        "for patch, color in zip(box1['boxes'], cores):\n",
        "    patch.set_facecolor(color)\n",
        "\n",
        "box2 = ax2.boxplot([[df_clean.TotalCharges[df_clean.Churn=='No']], df_clean.TotalCharges[df_clean.Churn=='Yes']], \n",
        "                  labels=['Base Ativa','Base Churn'],patch_artist=True,medianprops=medianprops);\n",
        "\n",
        "ax2.set_title('TotalCharges', fontsize = '14',color=cor_title,fontweight='bold')\n",
        "ax2.spines['right'].set_visible(False)\n",
        "ax2.spines['top'].set_visible(False)\n",
        "ax2.spines['bottom'].set_visible(False)     \n",
        "\n",
        "for patch, color in zip(box2['boxes'], cores):\n",
        "    patch.set_facecolor(color)\n",
        "\n",
        "plt.tight_layout()"
      ],
      "metadata": {
        "colab": {
          "base_uri": "https://localhost:8080/",
          "height": 441
        },
        "id": "gDKnYNa2npGM",
        "outputId": "84b694d8-673b-4edc-934f-e90691bcd5dc"
      },
      "execution_count": 18,
      "outputs": [
        {
          "output_type": "display_data",
          "data": {
            "text/plain": [
              "<Figure size 864x432 with 2 Axes>"
            ],
            "image/png": "[encoded data removed]"
          },
          "metadata": {
            "needs_background": "light"
          }
        }
      ]
    },
    {
      "cell_type": "markdown",
      "source": [
        "### f) Distribuição dos serviços usados pelo cliente\n",
        "\n",
        "Aqui são apresentados os serviços usados pelo cliente ativo e pelos clientes com churn.\n",
        "\n",
        "* Clientes ativos apresentam um percentual maior de assinatura dos serviços `OnlineSecurity`, `TechSupport` e `DeviceProtection` quando comparado aos clientes com churn.\n",
        "\n",
        "* A maioria dos clientes ativos possuem o serviço de internet DSL, uma tecnologia antiga, baseado em cabos coaxiais, que permitem baixas velocidades de navegação para a nossa realidade.\n",
        "\n",
        "* Em contrapartida, os clientes com churn em sua grande maioria possuem serviço de fibra ótica, serviço que no geral costuma ser bem estável e possibilita conexões com altas velocidades e baixa latência. \n",
        "\n",
        "Estes dados me levam a crer que o serviço ofertado de fibra óptica ou está caro, ou não está performando bem, o que pode estar levando os clientes ao churn por motivos técnicos do serviço ofertado."
      ],
      "metadata": {
        "id": "LssjD1h0NIFY"
      }
    },
    {
      "cell_type": "markdown",
      "source": [
        "#### Base Ativa"
      ],
      "metadata": {
        "id": "As2QW42tRRi3"
      }
    },
    {
      "cell_type": "code",
      "source": [
        "# base ativa\n",
        "services = ['PhoneService','MultipleLines','InternetService','OnlineSecurity',\n",
        "            'OnlineBackup','DeviceProtection','TechSupport','StreamingTV','StreamingMovies']\n",
        "\n",
        "fig, axes = plt.subplots(nrows=3, ncols=3, figsize =(15,12))\n",
        "fig.suptitle('Serviços usados por clientes ativos', y=0.95, \n",
        "             fontsize = '14',color=cor_title,fontweight='bold' )\n",
        "\n",
        "for i, item in enumerate(services): #enumera os itens da lista services para poder iterar\n",
        "  if i < 3:\n",
        "   ax = df_ativo[item].value_counts().plot(kind = 'bar',ax=axes[i,0],rot = 0,color=['#5A7D78','#347D73','#8CC2A2'])\n",
        "   ax.spines['right'].set_visible(False)  \n",
        "   ax.spines['top'].set_visible(False)\n",
        "\n",
        "  elif i>=3 and i < 6:\n",
        "   ax = df_ativo[item].value_counts().plot(kind = 'bar',ax=axes[i-3,1],rot = 0,color=['#5A7D78','#347D73','#8CC2A2'])\n",
        "   ax.spines['right'].set_visible(False)  \n",
        "   ax.spines['top'].set_visible(False)\n",
        "\n",
        "  elif i<9:\n",
        "   ax = df_ativo[item].value_counts().plot(kind = 'bar',ax=axes[i-6,2],rot = 0,color=['#5A7D78','#347D73','#8CC2A2'])\n",
        "   ax.spines['right'].set_visible(False)  \n",
        "   ax.spines['top'].set_visible(False)\n",
        "\n",
        "  ax.set_title(item)"
      ],
      "metadata": {
        "colab": {
          "base_uri": "https://localhost:8080/",
          "height": 761
        },
        "id": "XS333ccDN17G",
        "outputId": "85c5776e-5db1-429f-8662-db33891956d2"
      },
      "execution_count": 19,
      "outputs": [
        {
          "output_type": "display_data",
          "data": {
            "text/plain": [
              "<Figure size 1080x864 with 9 Axes>"
            ],
            "image/png": "[encoded data removed]"
          },
          "metadata": {
            "needs_background": "light"
          }
        }
      ]
    },
    {
      "cell_type": "markdown",
      "source": [
        "#### Base Churn"
      ],
      "metadata": {
        "id": "Plc21vkNRUO6"
      }
    },
    {
      "cell_type": "code",
      "source": [
        "#base churn\n",
        "# base ativa\n",
        "services = ['PhoneService','MultipleLines','InternetService','OnlineSecurity',\n",
        "            'OnlineBackup','DeviceProtection','TechSupport','StreamingTV','StreamingMovies']\n",
        "\n",
        "fig, axes = plt.subplots(nrows=3, ncols=3, figsize =(15,12))\n",
        "fig.suptitle('Serviços usados por clientes churn', y=0.95, \n",
        "             fontsize = '14',color=cor_title,fontweight='bold' )\n",
        "\n",
        "for i, item in enumerate(services): #enumera os itens da lista services para poder iterar\n",
        "  if i < 3:\n",
        "   ax = df_churn[item].value_counts().plot(kind = 'bar',ax=axes[i,0],rot = 0,color=['#C98404','#FCA605','#FDC151'])\n",
        "   ax.spines['right'].set_visible(False)  \n",
        "   ax.spines['top'].set_visible(False)\n",
        "\n",
        "  elif i>=3 and i < 6:\n",
        "   ax = df_churn[item].value_counts().plot(kind = 'bar',ax=axes[i-3,1],rot = 0,color=['#C98404','#FCA605','#FDC151'])\n",
        "   ax.spines['right'].set_visible(False)  \n",
        "   ax.spines['top'].set_visible(False)\n",
        "\n",
        "  elif i<9:\n",
        "   ax = df_churn[item].value_counts().plot(kind = 'bar',ax=axes[i-6,2],rot = 0,color=['#C98404','#FCA605','#FDC151'])\n",
        "   ax.spines['right'].set_visible(False)  \n",
        "   ax.spines['top'].set_visible(False)\n",
        "\n",
        "  ax.set_title(item)"
      ],
      "metadata": {
        "colab": {
          "base_uri": "https://localhost:8080/",
          "height": 761
        },
        "id": "-Py89WcIN5qz",
        "outputId": "df62ae7a-7b25-41e6-c65f-ef04821a8b5b"
      },
      "execution_count": 20,
      "outputs": [
        {
          "output_type": "display_data",
          "data": {
            "text/plain": [
              "<Figure size 1080x864 with 9 Axes>"
            ],
            "image/png": "[encoded data removed]"
          },
          "metadata": {
            "needs_background": "light"
          }
        }
      ]
    },
    {
      "cell_type": "markdown",
      "source": [
        "# 3 - Preparação dos dados\n",
        "\n",
        "Nesta etapa são executadas técnicas para tratar as variáveis numéricas e categóricas, além de balancear o `dataset` e dividir em treino, teste e validação.\n",
        "\n"
      ],
      "metadata": {
        "id": "mkyfOwVBeIJl"
      }
    },
    {
      "cell_type": "markdown",
      "source": [
        "## 3.1 Feature Engineering\n",
        "\n",
        "O `feature engineerinig` são técnicas aplicadas em nossas features visando uma melhora na capacidade do modelo.\n",
        "\n",
        "Pode-se criar novas features, normalizar grandezas numéricas, preencher valores vazios ou remove-los, manipular outliers, dividir os valores numéricos em intervalos, transformar variáveis categóricas em colunas de 0 e 1 eoutros.\n",
        "\n",
        "Neste estudo é utilizada dois métodos principais:\n",
        "* `Get Dummies` :Transforma uma variável categórica em uma espécie de matriz esparça composta por 0 e 1, indicando a presença ou não de uma determinada variável. Para uma variável com 3 valores categóricos, serão criadas três novas colunas compostas por 0 e 1. Este método é similar ao `Onehotencoder` que será utilizado em estudos futuros.\n",
        "\n",
        "* `Label Encoder`: Transforma uma variável em uma espécie de matriz esparça composta por 0 e 1, indicando a presença ou não de uma determinada variável.\n",
        "\n",
        "Desta forma, o `Label Enconder` é utilizado para variáveis com dois labels, incluindo nossa variável alvo `Churn` e o `Get Dummies` será utilizado para variáveis com mais de dois labels.\n",
        "\n",
        "\n",
        "Fonte:[1](https://ateliware.com/blog/feature-engineering), [2](https://www.delftstack.com/pt/howto/python-pandas/get-dummies-pandas/), [3](https://albertum.medium.com/preprocessing-onehotencoder-vs-pandas-get-dummies-3de1f3d77dcc\n",
        ")\n",
        "\n",
        "\n",
        "\n",
        "\n"
      ],
      "metadata": {
        "id": "iGZjVWerelsK"
      }
    },
    {
      "cell_type": "code",
      "source": [
        "# variáveis binárias\n",
        "binary_var = df_clean.nunique()[df_clean.nunique() ==2].keys().tolist()\n",
        "#selecionando as variáveis numéricas que não são binárias \n",
        "num_var = [col for col in df_clean.select_dtypes(['int', 'float']).columns.tolist() if col not in binary_var]\n",
        "#selecionando as variáveis categóricas\n",
        "cat_var = [col for col in df_clean.columns.tolist() if col not in binary_var + num_var]\n",
        "\n",
        "#criando um novo datraframe processado\n",
        "df_proc = df_clean.copy()\n",
        "\n",
        "#label encoding para as variáveis binárias\n",
        "le = LabelEncoder()\n",
        "for i in binary_var:\n",
        "  df_proc[i] = le.fit_transform(df_proc[i])\n",
        "\n",
        "#get dummies para as variáveis categóricas com muitas classes\n",
        "df_proc = pd.get_dummies(df_proc, columns=cat_var)\n",
        "\n",
        "print(f'O dataframe antes do processamento das variáveis possuia {len(df_clean.columns)} variáveis.')\n",
        "print(f'O dataframe após o processamento das variáveis possui {len(df_proc.columns)} variáveis.\\n')\n",
        "df_proc.head()"
      ],
      "metadata": {
        "id": "AhaRtmQReuco",
        "colab": {
          "base_uri": "https://localhost:8080/",
          "height": 389
        },
        "outputId": "86d9851a-7ad8-489e-ddfd-8eeb0b69f783"
      },
      "execution_count": 21,
      "outputs": [
        {
          "output_type": "stream",
          "name": "stdout",
          "text": [
            "O dataframe antes do processamento das variáveis possuia 20 variáveis.\n",
            "O dataframe após o processamento das variáveis possui 41 variáveis.\n",
            "\n"
          ]
        },
        {
          "output_type": "execute_result",
          "data": {
            "text/plain": [
              "   gender  SeniorCitizen  Partner  Dependents  tenure  PhoneService  \\\n",
              "0       0              0        1           0       1             0   \n",
              "1       1              0        0           0      34             1   \n",
              "2       1              0        0           0       2             1   \n",
              "3       1              0        0           0      45             0   \n",
              "4       0              0        0           0       2             1   \n",
              "\n",
              "   PaperlessBilling  MonthlyCharges  TotalCharges  Churn  ...  \\\n",
              "0                 1           29.85         29.85      0  ...   \n",
              "1                 0           56.95       1889.50      0  ...   \n",
              "2                 1           53.85        108.15      1  ...   \n",
              "3                 0           42.30       1840.75      0  ...   \n",
              "4                 1           70.70        151.65      1  ...   \n",
              "\n",
              "   StreamingMovies_No  StreamingMovies_No internet service  \\\n",
              "0                   1                                    0   \n",
              "1                   1                                    0   \n",
              "2                   1                                    0   \n",
              "3                   1                                    0   \n",
              "4                   1                                    0   \n",
              "\n",
              "   StreamingMovies_Yes  Contract_Month-to-month  Contract_One year  \\\n",
              "0                    0                        1                  0   \n",
              "1                    0                        0                  1   \n",
              "2                    0                        1                  0   \n",
              "3                    0                        0                  1   \n",
              "4                    0                        1                  0   \n",
              "\n",
              "   Contract_Two year  PaymentMethod_Bank transfer (automatic)  \\\n",
              "0                  0                                        0   \n",
              "1                  0                                        0   \n",
              "2                  0                                        0   \n",
              "3                  0                                        1   \n",
              "4                  0                                        0   \n",
              "\n",
              "   PaymentMethod_Credit card (automatic)  PaymentMethod_Electronic check  \\\n",
              "0                                      0                               1   \n",
              "1                                      0                               0   \n",
              "2                                      0                               0   \n",
              "3                                      0                               0   \n",
              "4                                      0                               1   \n",
              "\n",
              "   PaymentMethod_Mailed check  \n",
              "0                           0  \n",
              "1                           1  \n",
              "2                           1  \n",
              "3                           0  \n",
              "4                           0  \n",
              "\n",
              "[5 rows x 41 columns]"
            ],
            "text/html": [
              "\n",
              "  <div id=\"df-7ea5bb84-d0dc-441c-b7ee-9a20162452aa\">\n",
              "    <div class=\"colab-df-container\">\n",
              "      <div>\n",
              "<style scoped>\n",
              "    .dataframe tbody tr th:only-of-type {\n",
              "        vertical-align: middle;\n",
              "    }\n",
              "\n",
              "    .dataframe tbody tr th {\n",
              "        vertical-align: top;\n",
              "    }\n",
              "\n",
              "    .dataframe thead th {\n",
              "        text-align: right;\n",
              "    }\n",
              "</style>\n",
              "<table border=\"1\" class=\"dataframe\">\n",
              "  <thead>\n",
              "    <tr style=\"text-align: right;\">\n",
              "      <th></th>\n",
              "      <th>gender</th>\n",
              "      <th>SeniorCitizen</th>\n",
              "      <th>Partner</th>\n",
              "      <th>Dependents</th>\n",
              "      <th>tenure</th>\n",
              "      <th>PhoneService</th>\n",
              "      <th>PaperlessBilling</th>\n",
              "      <th>MonthlyCharges</th>\n",
              "      <th>TotalCharges</th>\n",
              "      <th>Churn</th>\n",
              "      <th>...</th>\n",
              "      <th>StreamingMovies_No</th>\n",
              "      <th>StreamingMovies_No internet service</th>\n",
              "      <th>StreamingMovies_Yes</th>\n",
              "      <th>Contract_Month-to-month</th>\n",
              "      <th>Contract_One year</th>\n",
              "      <th>Contract_Two year</th>\n",
              "      <th>PaymentMethod_Bank transfer (automatic)</th>\n",
              "      <th>PaymentMethod_Credit card (automatic)</th>\n",
              "      <th>PaymentMethod_Electronic check</th>\n",
              "      <th>PaymentMethod_Mailed check</th>\n",
              "    </tr>\n",
              "  </thead>\n",
              "  <tbody>\n",
              "    <tr>\n",
              "      <th>0</th>\n",
              "      <td>0</td>\n",
              "      <td>0</td>\n",
              "      <td>1</td>\n",
              "      <td>0</td>\n",
              "      <td>1</td>\n",
              "      <td>0</td>\n",
              "      <td>1</td>\n",
              "      <td>29.85</td>\n",
              "      <td>29.85</td>\n",
              "      <td>0</td>\n",
              "      <td>...</td>\n",
              "      <td>1</td>\n",
              "      <td>0</td>\n",
              "      <td>0</td>\n",
              "      <td>1</td>\n",
              "      <td>0</td>\n",
              "      <td>0</td>\n",
              "      <td>0</td>\n",
              "      <td>0</td>\n",
              "      <td>1</td>\n",
              "      <td>0</td>\n",
              "    </tr>\n",
              "    <tr>\n",
              "      <th>1</th>\n",
              "      <td>1</td>\n",
              "      <td>0</td>\n",
              "      <td>0</td>\n",
              "      <td>0</td>\n",
              "      <td>34</td>\n",
              "      <td>1</td>\n",
              "      <td>0</td>\n",
              "      <td>56.95</td>\n",
              "      <td>1889.50</td>\n",
              "      <td>0</td>\n",
              "      <td>...</td>\n",
              "      <td>1</td>\n",
              "      <td>0</td>\n",
              "      <td>0</td>\n",
              "      <td>0</td>\n",
              "      <td>1</td>\n",
              "      <td>0</td>\n",
              "      <td>0</td>\n",
              "      <td>0</td>\n",
              "      <td>0</td>\n",
              "      <td>1</td>\n",
              "    </tr>\n",
              "    <tr>\n",
              "      <th>2</th>\n",
              "      <td>1</td>\n",
              "      <td>0</td>\n",
              "      <td>0</td>\n",
              "      <td>0</td>\n",
              "      <td>2</td>\n",
              "      <td>1</td>\n",
              "      <td>1</td>\n",
              "      <td>53.85</td>\n",
              "      <td>108.15</td>\n",
              "      <td>1</td>\n",
              "      <td>...</td>\n",
              "      <td>1</td>\n",
              "      <td>0</td>\n",
              "      <td>0</td>\n",
              "      <td>1</td>\n",
              "      <td>0</td>\n",
              "      <td>0</td>\n",
              "      <td>0</td>\n",
              "      <td>0</td>\n",
              "      <td>0</td>\n",
              "      <td>1</td>\n",
              "    </tr>\n",
              "    <tr>\n",
              "      <th>3</th>\n",
              "      <td>1</td>\n",
              "      <td>0</td>\n",
              "      <td>0</td>\n",
              "      <td>0</td>\n",
              "      <td>45</td>\n",
              "      <td>0</td>\n",
              "      <td>0</td>\n",
              "      <td>42.30</td>\n",
              "      <td>1840.75</td>\n",
              "      <td>0</td>\n",
              "      <td>...</td>\n",
              "      <td>1</td>\n",
              "      <td>0</td>\n",
              "      <td>0</td>\n",
              "      <td>0</td>\n",
              "      <td>1</td>\n",
              "      <td>0</td>\n",
              "      <td>1</td>\n",
              "      <td>0</td>\n",
              "      <td>0</td>\n",
              "      <td>0</td>\n",
              "    </tr>\n",
              "    <tr>\n",
              "      <th>4</th>\n",
              "      <td>0</td>\n",
              "      <td>0</td>\n",
              "      <td>0</td>\n",
              "      <td>0</td>\n",
              "      <td>2</td>\n",
              "      <td>1</td>\n",
              "      <td>1</td>\n",
              "      <td>70.70</td>\n",
              "      <td>151.65</td>\n",
              "      <td>1</td>\n",
              "      <td>...</td>\n",
              "      <td>1</td>\n",
              "      <td>0</td>\n",
              "      <td>0</td>\n",
              "      <td>1</td>\n",
              "      <td>0</td>\n",
              "      <td>0</td>\n",
              "      <td>0</td>\n",
              "      <td>0</td>\n",
              "      <td>1</td>\n",
              "      <td>0</td>\n",
              "    </tr>\n",
              "  </tbody>\n",
              "</table>\n",
              "<p>5 rows × 41 columns</p>\n",
              "</div>\n",
              "      <button class=\"colab-df-convert\" onclick=\"convertToInteractive('df-7ea5bb84-d0dc-441c-b7ee-9a20162452aa')\"\n",
              "              title=\"Convert this dataframe to an interactive table.\"\n",
              "              style=\"display:none;\">\n",
              "        \n",
              "  <svg xmlns=\"http://www.w3.org/2000/svg\" height=\"24px\"viewBox=\"0 0 24 24\"\n",
              "       width=\"24px\">\n",
              "    <path d=\"M0 0h24v24H0V0z\" fill=\"none\"/>\n",
              "    <path d=\"M18.56 5.44l.94 2.06.94-2.06 2.06-.94-2.06-.94-.94-2.06-.94 2.06-2.06.94zm-11 1L8.5 8.5l.94-2.06 2.06-.94-2.06-.94L8.5 2.5l-.94 2.06-2.06.94zm10 10l.94 2.06.94-2.06 2.06-.94-2.06-.94-.94-2.06-.94 2.06-2.06.94z\"/><path d=\"M17.41 7.96l-1.37-1.37c-.4-.4-.92-.59-1.43-.59-.52 0-1.04.2-1.43.59L10.3 9.45l-7.72 7.72c-.78.78-.78 2.05 0 2.83L4 21.41c.39.39.9.59 1.41.59.51 0 1.02-.2 1.41-.59l7.78-7.78 2.81-2.81c.8-.78.8-2.07 0-2.86zM5.41 20L4 18.59l7.72-7.72 1.47 1.35L5.41 20z\"/>\n",
              "  </svg>\n",
              "      </button>\n",
              "      \n",
              "  <style>\n",
              "    .colab-df-container {\n",
              "      display:flex;\n",
              "      flex-wrap:wrap;\n",
              "      gap: 12px;\n",
              "    }\n",
              "\n",
              "    .colab-df-convert {\n",
              "      background-color: #E8F0FE;\n",
              "      border: none;\n",
              "      border-radius: 50%;\n",
              "      cursor: pointer;\n",
              "      display: none;\n",
              "      fill: #1967D2;\n",
              "      height: 32px;\n",
              "      padding: 0 0 0 0;\n",
              "      width: 32px;\n",
              "    }\n",
              "\n",
              "    .colab-df-convert:hover {\n",
              "      background-color: #E2EBFA;\n",
              "      box-shadow: 0px 1px 2px rgba(60, 64, 67, 0.3), 0px 1px 3px 1px rgba(60, 64, 67, 0.15);\n",
              "      fill: #174EA6;\n",
              "    }\n",
              "\n",
              "    [theme=dark] .colab-df-convert {\n",
              "      background-color: #3B4455;\n",
              "      fill: #D2E3FC;\n",
              "    }\n",
              "\n",
              "    [theme=dark] .colab-df-convert:hover {\n",
              "      background-color: #434B5C;\n",
              "      box-shadow: 0px 1px 3px 1px rgba(0, 0, 0, 0.15);\n",
              "      filter: drop-shadow(0px 1px 2px rgba(0, 0, 0, 0.3));\n",
              "      fill: #FFFFFF;\n",
              "    }\n",
              "  </style>\n",
              "\n",
              "      <script>\n",
              "        const buttonEl =\n",
              "          document.querySelector('#df-7ea5bb84-d0dc-441c-b7ee-9a20162452aa button.colab-df-convert');\n",
              "        buttonEl.style.display =\n",
              "          google.colab.kernel.accessAllowed ? 'block' : 'none';\n",
              "\n",
              "        async function convertToInteractive(key) {\n",
              "          const element = document.querySelector('#df-7ea5bb84-d0dc-441c-b7ee-9a20162452aa');\n",
              "          const dataTable =\n",
              "            await google.colab.kernel.invokeFunction('convertToInteractive',\n",
              "                                                     [key], {});\n",
              "          if (!dataTable) return;\n",
              "\n",
              "          const docLinkHtml = 'Like what you see? Visit the ' +\n",
              "            '<a target=\"_blank\" href=https://colab.research.google.com/notebooks/data_table.ipynb>data table notebook</a>'\n",
              "            + ' to learn more about interactive tables.';\n",
              "          element.innerHTML = '';\n",
              "          dataTable['output_type'] = 'display_data';\n",
              "          await google.colab.output.renderOutput(dataTable, element);\n",
              "          const docLink = document.createElement('div');\n",
              "          docLink.innerHTML = docLinkHtml;\n",
              "          element.appendChild(docLink);\n",
              "        }\n",
              "      </script>\n",
              "    </div>\n",
              "  </div>\n",
              "  "
            ]
          },
          "metadata": {},
          "execution_count": 21
        }
      ]
    },
    {
      "cell_type": "code",
      "source": [
        "# removendo colunas redundantes, principalmente as que indicam que não existe internet, pois já temos uma coluna para isso InternetService_No\n",
        "# total de 7 colunas removidas\n",
        "colunas = ['StreamingMovies_No internet service','StreamingTV_No internet service',\n",
        "           'TechSupport_No internet service','DeviceProtection_No internet service',\n",
        "           'OnlineBackup_No internet service','OnlineSecurity_No internet service',\n",
        "           'MultipleLines_No phone service']\n",
        "\n",
        "df_proc.drop(colunas, axis=1, inplace=True)\n",
        "print(f'O dataframe após o remoção de colunas redundantes possui {len(df_proc.columns)} variáveis.\\n')"
      ],
      "metadata": {
        "colab": {
          "base_uri": "https://localhost:8080/"
        },
        "id": "U5NfMs3ikwNH",
        "outputId": "f9e2f7c6-1825-4bc5-ca8a-263ffa792b8a"
      },
      "execution_count": 22,
      "outputs": [
        {
          "output_type": "stream",
          "name": "stdout",
          "text": [
            "O dataframe após o remoção de colunas redundantes possui 34 variáveis.\n",
            "\n"
          ]
        }
      ]
    },
    {
      "cell_type": "markdown",
      "source": [
        "## 3.2 Divisão do `dataset`\n",
        "\n",
        "Nesta etapas vamos fracionar o `dataset` em 3 partes:\n",
        "* Dados de treinamento (`train`): usado para treinar o modelo.\n",
        "* Dados de validação (`valid`): usado para comparação de diferentes modelos e hiperparâmetros.\n",
        "* Dados de teste (`test` ou simulação): usado para comprovar que aquele modelo realmente funciona. São dados ignorados no treinamento e no processo de escolha de hiperparâmetros.\n",
        "\n",
        "Geralmente utilizamos 70% para os dados de treinamento, 15% para validação e 15% para o teste final. Estes valores podem mudar de acordo com o tamanho do `dataset` e com o problema estudado.\n",
        "\n",
        "Fonte: [4](https://medium.com/@abnersuniga7/conjuntos-de-treino-teste-e-valida%C3%A7%C3%A3o-em-machine-learning-fast-ai-5da612dcb0ed)\n"
      ],
      "metadata": {
        "id": "hSTGKRlfuYSu"
      }
    },
    {
      "cell_type": "code",
      "source": [
        "df_teste = df_proc.sample(frac=0.17, random_state=0)\n",
        "df_train = df_proc.drop(df_teste.index)\n",
        "\n",
        "print(f'Total entradas dataset original {len(df_proc)}.')\n",
        "print(f'Total entradas dataset train {len(df_train)}.')\n",
        "print(f'Total entradas dataset teste(simulacção) {len(df_teste)}.')"
      ],
      "metadata": {
        "colab": {
          "base_uri": "https://localhost:8080/"
        },
        "id": "pHfX_Dmrn6ZC",
        "outputId": "14d01953-a2a6-42ab-eb4b-cfc00d6ade95"
      },
      "execution_count": 23,
      "outputs": [
        {
          "output_type": "stream",
          "name": "stdout",
          "text": [
            "Total entradas dataset original 7043.\n",
            "Total entradas dataset train 5846.\n",
            "Total entradas dataset teste(simulacção) 1197.\n"
          ]
        }
      ]
    },
    {
      "cell_type": "markdown",
      "source": [
        "Aqui é separado os dados em treino e validação.\n",
        "\n",
        "\n",
        "O `stratify=y` é utilizado para que os conjuntos de treino e teste tenham a mesma quantidade de classes proporcionalmente. \n",
        "\n",
        "Também pode-se usar `train_test_split(x, y, test_size=0.25, random_state=0)` no lugar do `stratfy` e `shuffle`. `O random_state` irá pegar itens no aleatório de acordo com a semente que utilizarmos. Essa semente permite recuperar os mesmos dados sempre que necessário."
      ],
      "metadata": {
        "id": "9BbmxT9O0-21"
      }
    },
    {
      "cell_type": "code",
      "source": [
        "# separando os dados da nossa variável alvo\n",
        "X = df_train.drop('Churn', axis=1)\n",
        "y = df_train.Churn\n",
        "\n",
        "#dividindo os dados em treino e teste a partir do nosso dataset df_train\n",
        "X_train, X_test, y_train, y_test = train_test_split(X, y , shuffle=True, stratify=y, test_size=0.20)"
      ],
      "metadata": {
        "id": "1qUdzxZYyYZX"
      },
      "execution_count": 24,
      "outputs": []
    },
    {
      "cell_type": "markdown",
      "source": [
        "## 3.3 Padronização das variáveis numéricas com grandezas distintas\n",
        "\n",
        "Padrozinar variáveis numéricas com grandezas distintas é importante para termos uma escala comum. Essa padronização pode funcionar como um hiperparâmetro para o modelo, pois ele afeta diretamente os resultados obtidos.\n",
        "\n",
        "Para esta etapa o método `StandardScaler` é utilizado, padronizando as features zerando a média e tornando o desvio padrão igual a 1.\n",
        "\n",
        "\n",
        "Como a maior parte dos dados reais irá demandar um tratamento (ou passar por um filtro), a *transformer interface* define o método `transform`, que recebe um input `X` e devolve um output transformado `X`.\n",
        "\n",
        "Fonte: [5](https://cursos.alura.com.br/forum/topico-standardscaler-duvida-119065)\n",
        "\n"
      ],
      "metadata": {
        "id": "SNrXhk-335Jp"
      }
    },
    {
      "cell_type": "code",
      "source": [
        "# std_scaler = StandardScaler()\n",
        "# O método é aplicado apenas nos dados de treino para as variáveis `tenure`, `MonthlyCharges` e `TotalCharges` .\n",
        "# #substituindo as colunas aplicando o método para padronização\n",
        "# X_train['tenure'] = std_scaler.fit_transform(X_train['tenure'].values.reshape(-1,1))\n",
        "# X_train['MonthlyCharges'] = std_scaler.fit_transform(X_train['MonthlyCharges'].values.reshape(-1,1))\n",
        "# X_train['TotalCharges'] = std_scaler.fit_transform(X_train['TotalCharges'].values.reshape(-1,1))"
      ],
      "metadata": {
        "id": "uPB1SqUl0x8u"
      },
      "execution_count": 25,
      "outputs": []
    },
    {
      "cell_type": "code",
      "source": [
        "# padronizando e transformando em vetor\n",
        "scaler = StandardScaler().fit(X_train) #padronizando \n",
        "X_train = scaler.transform(X_train) # cria um vetor dos dados de X"
      ],
      "metadata": {
        "id": "9R6Y4ctUufFo"
      },
      "execution_count": 26,
      "outputs": []
    },
    {
      "cell_type": "markdown",
      "source": [
        "##3.4 -  Balanceamento dos dados\n",
        "\n",
        "Sabemos que os dados para clientes ativos é significativamente maior que para os clientes com churn. Aqui são utilizadas duas técnicas de balanceamento:\n",
        "\n",
        "**SMOTE**: Técnica que cria observações para a classe minoritária baseada em observações intermediárias de dados parecidos. Apesar de ser parecido com o RandomUnderSampling, ele não gera amostras randômicas e por isso precisa de mais processamento para ser executado.\n",
        "\n",
        "**Undersampling**: Entradas da classe majoritária são excluídas para balancear com a classe minoritária.\n",
        "\n",
        "Obs: O SMOTE se saiu melhor que o RandomSampling nos testes que fiz, por isto optei por usar ele. Não deixei os três para reduzir o gasto computacional.\n",
        "\n",
        "Fonte: [6](https://medium.com/turing-talks/dados-desbalanceados-o-que-s%C3%A3o-e-como-evit%C3%A1-los-43df4f49732b#:~:text=Concluindo%2C%20enquanto%20o%20Random%20Oversampling,ainda%20ser%C3%A1%20demostrado%20neste%20texto.),[7](https://blog.strands.com/unbalanced-datasets)"
      ],
      "metadata": {
        "id": "kwQhDNqQ-k6d"
      }
    },
    {
      "cell_type": "code",
      "source": [
        "#variável alvo antes do balanceamento\n",
        "pd.Series(y_train).value_counts()"
      ],
      "metadata": {
        "colab": {
          "base_uri": "https://localhost:8080/"
        },
        "id": "KSMr4wKNi7ok",
        "outputId": "7270f93b-447a-46cd-83d8-4df9d958354f"
      },
      "execution_count": 27,
      "outputs": [
        {
          "output_type": "execute_result",
          "data": {
            "text/plain": [
              "0    3427\n",
              "1    1249\n",
              "Name: Churn, dtype: int64"
            ]
          },
          "metadata": {},
          "execution_count": 27
        }
      ]
    },
    {
      "cell_type": "code",
      "source": [
        "# ros = RandomOverSampler()\n",
        "smote = SMOTE()\n",
        "X_train_smote, y_train_smote = smote.fit_resample(X_train, y_train)\n",
        "\n",
        "#ver o balanceamento das classes\n",
        "print(f'{pd.Series(y_train_smote).value_counts()}\\n')\n",
        "\n",
        "#plot\n",
        "fig, ax = plt.subplots(figsize=(6,4))\n",
        "pd.Series(y_train_smote).value_counts().plot(kind='bar', ax=ax, color=cores); #ou> sns.countplot(y_rus, palette=cores);\n",
        "\n",
        "ax.set_title('Distribuição das Classes da Variável Target')\n",
        "ax.set_ylabel('')\n",
        "\n",
        "ax.spines['right'].set_visible(False)\n",
        "ax.spines['top'].set_visible(False)\n",
        "\n",
        "plt.xticks([0, 1], ['Ativo (0)', 'Churn (1)'],rotation='horizontal')\n",
        "plt.tight_layout()"
      ],
      "metadata": {
        "colab": {
          "base_uri": "https://localhost:8080/",
          "height": 370
        },
        "id": "e3FXAt9_v3Mg",
        "outputId": "c0a01ab2-46ff-445a-a42e-670040c619bb"
      },
      "execution_count": 28,
      "outputs": [
        {
          "output_type": "stream",
          "name": "stdout",
          "text": [
            "0    3427\n",
            "1    3427\n",
            "Name: Churn, dtype: int64\n",
            "\n"
          ]
        },
        {
          "output_type": "display_data",
          "data": {
            "text/plain": [
              "<Figure size 432x288 with 1 Axes>"
            ],
            "image/png": "[encoded data removed]"
          },
          "metadata": {
            "needs_background": "light"
          }
        }
      ]
    },
    {
      "cell_type": "code",
      "source": [
        "rus = RandomUnderSampler()\n",
        "X_train_rus, y_train_rus = rus.fit_resample(X_train, y_train)\n",
        "\n",
        "print(f'{pd.Series(y_train_rus).value_counts()}\\n')\n",
        "\n",
        "#plot\n",
        "fig, ax = plt.subplots(figsize=(6,4))\n",
        "pd.Series(y_train_rus).value_counts().plot(kind='bar', ax=ax, color=cores); #ou> sns.countplot(y_rus, palette=cores);\n",
        "\n",
        "ax.set_title('Distribuição das Classes da Variável Target')\n",
        "ax.set_ylabel('')\n",
        "\n",
        "ax.spines['right'].set_visible(False)\n",
        "ax.spines['top'].set_visible(False)\n",
        "\n",
        "plt.xticks([0, 1], ['Ativo (0)', 'Churn (1)'],rotation='horizontal')\n",
        "plt.tight_layout()"
      ],
      "metadata": {
        "colab": {
          "base_uri": "https://localhost:8080/",
          "height": 370
        },
        "id": "KtSJXPfl_0dU",
        "outputId": "06aa7244-9c2a-48ec-bf05-7c5b2957c113"
      },
      "execution_count": 29,
      "outputs": [
        {
          "output_type": "stream",
          "name": "stdout",
          "text": [
            "0    1249\n",
            "1    1249\n",
            "Name: Churn, dtype: int64\n",
            "\n"
          ]
        },
        {
          "output_type": "display_data",
          "data": {
            "text/plain": [
              "<Figure size 432x288 with 1 Axes>"
            ],
            "image/png": "[encoded data removed]"
          },
          "metadata": {
            "needs_background": "light"
          }
        }
      ]
    },
    {
      "cell_type": "markdown",
      "source": [
        "#4 - Modelos de Machine Learning\n",
        "\n",
        "Nesta etapa é apresentada os modelos de ML, onde a métrica principal para comparações é o `recall`. Para um projeto futuro será levado em consideração outras métricas em conjunto.\n",
        "\n",
        "O `recall` ilustra a proporção de positivos encontrados corretamente.\n",
        "\n",
        "\n",
        "\\begin{align}\n",
        "Recall = \\frac{True Positive(TP) \\,}{True Positive(TP)+False Negative(FN)}\n",
        "\\end{align}\n",
        "\n",
        "Os modelos utilizados são:\n",
        "\n",
        "* **Decision Tree**: O algoritmo cria uma espécie de fluxograma onde em cada nó é verificada uma condição, e se a condição for atendida segue por um ramo, caso contrário por outro, sempre levando ao próximo nó até a árvore acabar.\n",
        "* **RandomForest**: Algoritmo que utiliza várias árvores de decisão de maneira aleatória com o intuito de melhorar o resultado final.\n",
        "* **LogisticRegression**: é um modelo estatístico usado para determinar a probabilidade de um evento acontecer. Ele mostra a relação entre os recursos e, em seguida, calcula a probabilidade de um determinado resultado. Utilizada quando a variável destino é binária.\n",
        "* **Stochastic Gradient Descent**: técnica de otimização para ajustar classificadores lineares e regressores, presente a muito tempo na comunidade mas que recebeu atenção recente no contexto de aprendizagem de larga escala. Comummente utilizado para classificação de textos e no processamento de linguagem natural.\n",
        "* **X Gradient Boosting**: O XGBoost é um algoritmo de aprendizado de máquina, baseado em árvore de decisão e que utiliza uma estrutura de Gradient boosting. Conhecido por sua boa performance em modelos que envolvem imagens, textos e vídeos.\n",
        "\n",
        "Fonte: [8](https://medium.com/cinthiabpessanha/random-forest-como-funciona-um-dos-algoritmos-mais-populares-de-ml-cc1b8a58b3b4#:~:text=%C3%89%20um%20m%C3%A9todo%20estat%C3%ADstico%2C%20de,embutido%2C%20em%20formato%20de%20%C3%A1rvore), [9](https://didatica.tech/o-que-e-e-como-funciona-o-algoritmo-randomforest/), [10](https://lamfo-unb.github.io/2020/04/30/Regress%C3%A3o-Log%C3%ADstica/#:~:text=A%20regress%C3%A3o%20log%C3%ADstica%20%C3%A9%20compreendida,ao%20inv%C3%A9s%20de%20vari%C3%A1veis%20cont%C3%ADnuas), [11](https://scikit-learn.org/stable/modules/sgd.html), [12](https://www.datageeks.com.br/xgboost/)\n",
        "\n",
        "\n",
        "\n"
      ],
      "metadata": {
        "id": "wG9OAzMEbnyv"
      }
    },
    {
      "cell_type": "markdown",
      "source": [
        "## 4.1 - Cross Validation\n",
        "\n",
        "É uma técnica utilizada para avaliar o desempenho dos modelos de aprendizao de máquina. Ao aplicar o CV, os dados são fracionados em conjuntos, onde um conjunto é utilizado para treino e outro para avaliar o modelo.\n",
        "\n",
        "Desta forma, o CV tem altas chances de detectar se o modelo está subajustado aos dados de treinamento.\n",
        "\n",
        "Uma das formas mais comuns de utilizar o CV é aplicando o K-Fold, método que de forma aleatória divide os dados em K subconjuntos, sendo K pré definido anteriormente. A cada interação, os conjuntos são utilizados gerando uma nova métrica de resultado. Desta forma, todo subconjunto é utilizado para teste em algum momento.\n",
        "\n",
        "\n",
        "<p align=center>\n",
        "<img src=\"https://scikit-learn.org/stable/_images/grid_search_cross_validation.png\" width=\"60%\"></p>\n",
        "\n",
        "\n",
        "Abaixo é apresentado uma função que será utilizada durante o processo para validar modelos de ML diferentes.\n",
        "\n",
        "Fonte: [13](https://medium.com/@edubrazrabello/cross-validation-avaliando-seu-modelo-de-machine-learning-1fb70df15b78)\n"
      ],
      "metadata": {
        "id": "f-nu11wEbqwC"
      }
    },
    {
      "cell_type": "code",
      "source": [
        "#função crossvalidation\n",
        "def val_model(X, y, clf, quite=False):\n",
        "    \"\"\"\n",
        "    Realiza cross-validation com os dados de treino para determinado modelo.\n",
        "\n",
        "    # Arguments\n",
        "        X: DataFrame, contém as variáveis independetes.\n",
        "        y: Series, vetor contendo a variável alvo.\n",
        "        clf: modelo classificador do Scikit-learn.\n",
        "        quite: bool, indicando se a função deve imprimir os resultados ou não.\n",
        "\n",
        "    # Returns\n",
        "        float, média dos scores da cross-validation.\n",
        "    \"\"\"\n",
        "    \n",
        "    X = np.array(X)\n",
        "    y = np.array(y)\n",
        "\n",
        "    pipeline = make_pipeline(StandardScaler(), clf)\n",
        "    scores = cross_val_score(pipeline, X, y, scoring='recall')\n",
        "\n",
        "    if quite == False:\n",
        "        print(\"Recall: {:.2f} (+/- {:.2f})\".format(scores.mean(), scores.std()))\n",
        "    \n",
        "    return scores.mean()"
      ],
      "metadata": {
        "id": "ufJfOfCDgRmU"
      },
      "execution_count": 30,
      "outputs": []
    },
    {
      "cell_type": "markdown",
      "source": [
        "## 4.2 Baseline Simples \n",
        "\n",
        "Nesta etapa, é aplicada a função com o modelo `Random Forest Classifier` sem alterar hiperparametros, utilizando ele da forma mais simples, criando a baseline para comparação com os outros modelos. Para isso, utilizamos a base de dados `df_proc` sem preparação de dados aplicadas no item 3.\n",
        "\n",
        "Podemos observar que o valor para o `recall` foi baixo, ficando em 0.51, conforme esperado. Este número ilustra que o modelo é capaz de detectar 51% dos clientes com potencial de churn.\n",
        "\n"
      ],
      "metadata": {
        "id": "_dMT3yRYdzjH"
      }
    },
    {
      "cell_type": "code",
      "source": [
        "# separar a feature matrix da target vector\n",
        "X = df_proc.drop('Churn', axis=1)\n",
        "y = df_proc['Churn']\n",
        "\n",
        "# dividir os dados entre treino e teste.\n",
        "X_train, X_test, y_train, y_test = train_test_split(X, y, random_state=0, test_size=0.20)\n",
        "\n",
        "rf = RandomForestClassifier(random_state=42)\n",
        "score_baseline = val_model(X_train, y_train, rf)"
      ],
      "metadata": {
        "colab": {
          "base_uri": "https://localhost:8080/"
        },
        "id": "OGHqQOFnbqOw",
        "outputId": "64797b1a-e976-41f3-ff45-ce8746cfcbe8"
      },
      "execution_count": 31,
      "outputs": [
        {
          "output_type": "stream",
          "name": "stdout",
          "text": [
            "Recall: 0.51 (+/- 0.03)\n"
          ]
        }
      ]
    },
    {
      "cell_type": "markdown",
      "source": [
        "## 4.3 Instanciar e avaliar os modelos\n",
        "\n",
        "No item 3.4 utilizamos como balanceadores o `SMOTE`  e `RandomUnderSampling`, portanto todos os modelos utilizaram dados balanceados com essas técnicas, e o melhor resultado foi escolhido para o tratamento dos hiperparâmetros.\n",
        "\n",
        "    O  resultado escolhido foi o XGBClassifier com balanceadmento SMOTE com um recall acima de 0.860, \n",
        "    \n",
        "    ligeiramente pior que o modelo LogisticRegression com SMOTE que teve recall de 0.869\n",
        "\n",
        "Como o LogisticRegression possui poucos hiperparâmetros, optei por seguir com o XGB.\n"
      ],
      "metadata": {
        "id": "rgnt9PLzsab3"
      }
    },
    {
      "cell_type": "code",
      "source": [
        "#instanciar\n",
        "dt = DecisionTreeClassifier(random_state=42)\n",
        "rf = RandomForestClassifier(random_state=42)\n",
        "lr = LogisticRegression(random_state=42)\n",
        "sgd = SGDClassifier(random_state=42)\n",
        "xgb = XGBClassifier(random_state=42)"
      ],
      "metadata": {
        "id": "l-DF6zjHoxYn"
      },
      "execution_count": 32,
      "outputs": []
    },
    {
      "cell_type": "code",
      "source": [
        "# treinando com balanceador Oversampling\n",
        "model = []\n",
        "recall = []\n",
        "# avaliar o desempenho (recall)\n",
        "for clf in (dt, rf, lr, sgd, xgb):\n",
        "    model.append(clf.__class__.__name__)\n",
        "    recall.append(val_model(X_train_smote, y_train_smote, clf, quite=True))\n",
        "\n",
        "pd.DataFrame(data=recall, index=model, columns=['Recall'])"
      ],
      "metadata": {
        "colab": {
          "base_uri": "https://localhost:8080/",
          "height": 206
        },
        "id": "fN_A8MEAwV-_",
        "outputId": "d2acba63-e9fd-45ad-f3fb-dd95eb102181"
      },
      "execution_count": 33,
      "outputs": [
        {
          "output_type": "execute_result",
          "data": {
            "text/plain": [
              "                          Recall\n",
              "DecisionTreeClassifier  0.783717\n",
              "RandomForestClassifier  0.869504\n",
              "LogisticRegression      0.818784\n",
              "SGDClassifier           0.792234\n",
              "XGBClassifier           0.860748"
            ],
            "text/html": [
              "\n",
              "  <div id=\"df-179b5ddd-2363-43ce-9492-7596fe3c673a\">\n",
              "    <div class=\"colab-df-container\">\n",
              "      <div>\n",
              "<style scoped>\n",
              "    .dataframe tbody tr th:only-of-type {\n",
              "        vertical-align: middle;\n",
              "    }\n",
              "\n",
              "    .dataframe tbody tr th {\n",
              "        vertical-align: top;\n",
              "    }\n",
              "\n",
              "    .dataframe thead th {\n",
              "        text-align: right;\n",
              "    }\n",
              "</style>\n",
              "<table border=\"1\" class=\"dataframe\">\n",
              "  <thead>\n",
              "    <tr style=\"text-align: right;\">\n",
              "      <th></th>\n",
              "      <th>Recall</th>\n",
              "    </tr>\n",
              "  </thead>\n",
              "  <tbody>\n",
              "    <tr>\n",
              "      <th>DecisionTreeClassifier</th>\n",
              "      <td>0.783717</td>\n",
              "    </tr>\n",
              "    <tr>\n",
              "      <th>RandomForestClassifier</th>\n",
              "      <td>0.869504</td>\n",
              "    </tr>\n",
              "    <tr>\n",
              "      <th>LogisticRegression</th>\n",
              "      <td>0.818784</td>\n",
              "    </tr>\n",
              "    <tr>\n",
              "      <th>SGDClassifier</th>\n",
              "      <td>0.792234</td>\n",
              "    </tr>\n",
              "    <tr>\n",
              "      <th>XGBClassifier</th>\n",
              "      <td>0.860748</td>\n",
              "    </tr>\n",
              "  </tbody>\n",
              "</table>\n",
              "</div>\n",
              "      <button class=\"colab-df-convert\" onclick=\"convertToInteractive('df-179b5ddd-2363-43ce-9492-7596fe3c673a')\"\n",
              "              title=\"Convert this dataframe to an interactive table.\"\n",
              "              style=\"display:none;\">\n",
              "        \n",
              "  <svg xmlns=\"http://www.w3.org/2000/svg\" height=\"24px\"viewBox=\"0 0 24 24\"\n",
              "       width=\"24px\">\n",
              "    <path d=\"M0 0h24v24H0V0z\" fill=\"none\"/>\n",
              "    <path d=\"M18.56 5.44l.94 2.06.94-2.06 2.06-.94-2.06-.94-.94-2.06-.94 2.06-2.06.94zm-11 1L8.5 8.5l.94-2.06 2.06-.94-2.06-.94L8.5 2.5l-.94 2.06-2.06.94zm10 10l.94 2.06.94-2.06 2.06-.94-2.06-.94-.94-2.06-.94 2.06-2.06.94z\"/><path d=\"M17.41 7.96l-1.37-1.37c-.4-.4-.92-.59-1.43-.59-.52 0-1.04.2-1.43.59L10.3 9.45l-7.72 7.72c-.78.78-.78 2.05 0 2.83L4 21.41c.39.39.9.59 1.41.59.51 0 1.02-.2 1.41-.59l7.78-7.78 2.81-2.81c.8-.78.8-2.07 0-2.86zM5.41 20L4 18.59l7.72-7.72 1.47 1.35L5.41 20z\"/>\n",
              "  </svg>\n",
              "      </button>\n",
              "      \n",
              "  <style>\n",
              "    .colab-df-container {\n",
              "      display:flex;\n",
              "      flex-wrap:wrap;\n",
              "      gap: 12px;\n",
              "    }\n",
              "\n",
              "    .colab-df-convert {\n",
              "      background-color: #E8F0FE;\n",
              "      border: none;\n",
              "      border-radius: 50%;\n",
              "      cursor: pointer;\n",
              "      display: none;\n",
              "      fill: #1967D2;\n",
              "      height: 32px;\n",
              "      padding: 0 0 0 0;\n",
              "      width: 32px;\n",
              "    }\n",
              "\n",
              "    .colab-df-convert:hover {\n",
              "      background-color: #E2EBFA;\n",
              "      box-shadow: 0px 1px 2px rgba(60, 64, 67, 0.3), 0px 1px 3px 1px rgba(60, 64, 67, 0.15);\n",
              "      fill: #174EA6;\n",
              "    }\n",
              "\n",
              "    [theme=dark] .colab-df-convert {\n",
              "      background-color: #3B4455;\n",
              "      fill: #D2E3FC;\n",
              "    }\n",
              "\n",
              "    [theme=dark] .colab-df-convert:hover {\n",
              "      background-color: #434B5C;\n",
              "      box-shadow: 0px 1px 3px 1px rgba(0, 0, 0, 0.15);\n",
              "      filter: drop-shadow(0px 1px 2px rgba(0, 0, 0, 0.3));\n",
              "      fill: #FFFFFF;\n",
              "    }\n",
              "  </style>\n",
              "\n",
              "      <script>\n",
              "        const buttonEl =\n",
              "          document.querySelector('#df-179b5ddd-2363-43ce-9492-7596fe3c673a button.colab-df-convert');\n",
              "        buttonEl.style.display =\n",
              "          google.colab.kernel.accessAllowed ? 'block' : 'none';\n",
              "\n",
              "        async function convertToInteractive(key) {\n",
              "          const element = document.querySelector('#df-179b5ddd-2363-43ce-9492-7596fe3c673a');\n",
              "          const dataTable =\n",
              "            await google.colab.kernel.invokeFunction('convertToInteractive',\n",
              "                                                     [key], {});\n",
              "          if (!dataTable) return;\n",
              "\n",
              "          const docLinkHtml = 'Like what you see? Visit the ' +\n",
              "            '<a target=\"_blank\" href=https://colab.research.google.com/notebooks/data_table.ipynb>data table notebook</a>'\n",
              "            + ' to learn more about interactive tables.';\n",
              "          element.innerHTML = '';\n",
              "          dataTable['output_type'] = 'display_data';\n",
              "          await google.colab.output.renderOutput(dataTable, element);\n",
              "          const docLink = document.createElement('div');\n",
              "          docLink.innerHTML = docLinkHtml;\n",
              "          element.appendChild(docLink);\n",
              "        }\n",
              "      </script>\n",
              "    </div>\n",
              "  </div>\n",
              "  "
            ]
          },
          "metadata": {},
          "execution_count": 33
        }
      ]
    },
    {
      "cell_type": "code",
      "source": [
        "# treinando com balanceador Undersampling\n",
        "model = []\n",
        "recall = []\n",
        "# avaliar o desempenho (recall)\n",
        "for clf in (dt, rf, lr, sgd, xgb):\n",
        "    model.append(clf.__class__.__name__)\n",
        "    recall.append(val_model(X_train_rus, y_train_rus, clf, quite=True))\n",
        "\n",
        "pd.DataFrame(data=recall, index=model, columns=['Recall'])"
      ],
      "metadata": {
        "colab": {
          "base_uri": "https://localhost:8080/",
          "height": 206
        },
        "id": "IU9qTtQrtT64",
        "outputId": "393bcc6e-ab63-44fd-acfc-2799da2842c6"
      },
      "execution_count": 34,
      "outputs": [
        {
          "output_type": "execute_result",
          "data": {
            "text/plain": [
              "                          Recall\n",
              "DecisionTreeClassifier  0.678165\n",
              "RandomForestClassifier  0.777420\n",
              "LogisticRegression      0.799843\n",
              "SGDClassifier           0.707798\n",
              "XGBClassifier           0.802249"
            ],
            "text/html": [
              "\n",
              "  <div id=\"df-625b8949-d449-4649-935b-082e3bc15eee\">\n",
              "    <div class=\"colab-df-container\">\n",
              "      <div>\n",
              "<style scoped>\n",
              "    .dataframe tbody tr th:only-of-type {\n",
              "        vertical-align: middle;\n",
              "    }\n",
              "\n",
              "    .dataframe tbody tr th {\n",
              "        vertical-align: top;\n",
              "    }\n",
              "\n",
              "    .dataframe thead th {\n",
              "        text-align: right;\n",
              "    }\n",
              "</style>\n",
              "<table border=\"1\" class=\"dataframe\">\n",
              "  <thead>\n",
              "    <tr style=\"text-align: right;\">\n",
              "      <th></th>\n",
              "      <th>Recall</th>\n",
              "    </tr>\n",
              "  </thead>\n",
              "  <tbody>\n",
              "    <tr>\n",
              "      <th>DecisionTreeClassifier</th>\n",
              "      <td>0.678165</td>\n",
              "    </tr>\n",
              "    <tr>\n",
              "      <th>RandomForestClassifier</th>\n",
              "      <td>0.777420</td>\n",
              "    </tr>\n",
              "    <tr>\n",
              "      <th>LogisticRegression</th>\n",
              "      <td>0.799843</td>\n",
              "    </tr>\n",
              "    <tr>\n",
              "      <th>SGDClassifier</th>\n",
              "      <td>0.707798</td>\n",
              "    </tr>\n",
              "    <tr>\n",
              "      <th>XGBClassifier</th>\n",
              "      <td>0.802249</td>\n",
              "    </tr>\n",
              "  </tbody>\n",
              "</table>\n",
              "</div>\n",
              "      <button class=\"colab-df-convert\" onclick=\"convertToInteractive('df-625b8949-d449-4649-935b-082e3bc15eee')\"\n",
              "              title=\"Convert this dataframe to an interactive table.\"\n",
              "              style=\"display:none;\">\n",
              "        \n",
              "  <svg xmlns=\"http://www.w3.org/2000/svg\" height=\"24px\"viewBox=\"0 0 24 24\"\n",
              "       width=\"24px\">\n",
              "    <path d=\"M0 0h24v24H0V0z\" fill=\"none\"/>\n",
              "    <path d=\"M18.56 5.44l.94 2.06.94-2.06 2.06-.94-2.06-.94-.94-2.06-.94 2.06-2.06.94zm-11 1L8.5 8.5l.94-2.06 2.06-.94-2.06-.94L8.5 2.5l-.94 2.06-2.06.94zm10 10l.94 2.06.94-2.06 2.06-.94-2.06-.94-.94-2.06-.94 2.06-2.06.94z\"/><path d=\"M17.41 7.96l-1.37-1.37c-.4-.4-.92-.59-1.43-.59-.52 0-1.04.2-1.43.59L10.3 9.45l-7.72 7.72c-.78.78-.78 2.05 0 2.83L4 21.41c.39.39.9.59 1.41.59.51 0 1.02-.2 1.41-.59l7.78-7.78 2.81-2.81c.8-.78.8-2.07 0-2.86zM5.41 20L4 18.59l7.72-7.72 1.47 1.35L5.41 20z\"/>\n",
              "  </svg>\n",
              "      </button>\n",
              "      \n",
              "  <style>\n",
              "    .colab-df-container {\n",
              "      display:flex;\n",
              "      flex-wrap:wrap;\n",
              "      gap: 12px;\n",
              "    }\n",
              "\n",
              "    .colab-df-convert {\n",
              "      background-color: #E8F0FE;\n",
              "      border: none;\n",
              "      border-radius: 50%;\n",
              "      cursor: pointer;\n",
              "      display: none;\n",
              "      fill: #1967D2;\n",
              "      height: 32px;\n",
              "      padding: 0 0 0 0;\n",
              "      width: 32px;\n",
              "    }\n",
              "\n",
              "    .colab-df-convert:hover {\n",
              "      background-color: #E2EBFA;\n",
              "      box-shadow: 0px 1px 2px rgba(60, 64, 67, 0.3), 0px 1px 3px 1px rgba(60, 64, 67, 0.15);\n",
              "      fill: #174EA6;\n",
              "    }\n",
              "\n",
              "    [theme=dark] .colab-df-convert {\n",
              "      background-color: #3B4455;\n",
              "      fill: #D2E3FC;\n",
              "    }\n",
              "\n",
              "    [theme=dark] .colab-df-convert:hover {\n",
              "      background-color: #434B5C;\n",
              "      box-shadow: 0px 1px 3px 1px rgba(0, 0, 0, 0.15);\n",
              "      filter: drop-shadow(0px 1px 2px rgba(0, 0, 0, 0.3));\n",
              "      fill: #FFFFFF;\n",
              "    }\n",
              "  </style>\n",
              "\n",
              "      <script>\n",
              "        const buttonEl =\n",
              "          document.querySelector('#df-625b8949-d449-4649-935b-082e3bc15eee button.colab-df-convert');\n",
              "        buttonEl.style.display =\n",
              "          google.colab.kernel.accessAllowed ? 'block' : 'none';\n",
              "\n",
              "        async function convertToInteractive(key) {\n",
              "          const element = document.querySelector('#df-625b8949-d449-4649-935b-082e3bc15eee');\n",
              "          const dataTable =\n",
              "            await google.colab.kernel.invokeFunction('convertToInteractive',\n",
              "                                                     [key], {});\n",
              "          if (!dataTable) return;\n",
              "\n",
              "          const docLinkHtml = 'Like what you see? Visit the ' +\n",
              "            '<a target=\"_blank\" href=https://colab.research.google.com/notebooks/data_table.ipynb>data table notebook</a>'\n",
              "            + ' to learn more about interactive tables.';\n",
              "          element.innerHTML = '';\n",
              "          dataTable['output_type'] = 'display_data';\n",
              "          await google.colab.output.renderOutput(dataTable, element);\n",
              "          const docLink = document.createElement('div');\n",
              "          docLink.innerHTML = docLinkHtml;\n",
              "          element.appendChild(docLink);\n",
              "        }\n",
              "      </script>\n",
              "    </div>\n",
              "  </div>\n",
              "  "
            ]
          },
          "metadata": {},
          "execution_count": 34
        }
      ]
    },
    {
      "cell_type": "markdown",
      "source": [
        "# 5 - Otimização dos Hiperparâmetros\n",
        "\n",
        "Após selecionar o modelo `XGBClassifier` com balanceamento `SMOTE` é necessário calibrar os hiperparâmetros para aumentar o nosso `recall`.\n",
        "\n",
        "O XGB possui diversos parâmetros. Aqui são alterados alguns deles para identificar quais interferem mais positivamente no resultado que é buscado. Após encontrar a melhor calibragem, é testado esse modelo nos dados de simulação.\n",
        "\n",
        "Para a calibragem, é utilizado o `GridSearchCV` que utiliza todas as combinações que passamos para ele, rodando o modelo várias vezes e imprimindo os resultados buscados. Para esta base de dados que não é grande, este método funciona bem. Já para bases maiories, podemos optar pelo `RandomizedSearchCV`, que dentro de um range podemos escolher quantas interações queremos, e ele executa de forma randomica o modelo com os parâmetros pré selecionados.\n",
        "\n",
        "Eu preferi executar toda a calibragem em um unico código, executando 96 simulações ao todo.\n",
        "\n",
        "Simular separarado pode ser mais rápido, porém não testaria todas as cobinações.\n",
        "\n",
        "\n",
        "Fonte: [14](https://didatica.tech/como-encontrar-a-melhor-performance-machine-learning/), [15](https://www.alura.com.br/conteudo/), [16](https://andersonuyekita.github.io/notebooks/blog/2019/03/21/), [17](https://andersonuyekita.github.io/notebooks/blog/2019/03/21/como-usar-o-gridsearchcv/)"
      ],
      "metadata": {
        "id": "EjUgaH2o13Ri"
      }
    },
    {
      "cell_type": "markdown",
      "source": [
        "## 5.1 Tunning dos hiperparâmetros de uma vez\n",
        "\n",
        "    recall obitido de 0.918 com a combinação:\n",
        "\n",
        "    {'booster': 'gbtree', 'learning_rate': 0.001, 'max_depth': 1, 'min_child_weight': 1, 'n_estimators': 100}"
      ],
      "metadata": {
        "id": "eDWJ_m3EddnX"
      }
    },
    {
      "cell_type": "code",
      "source": [
        "xgb = XGBClassifier()\n",
        "\n",
        "param_grid = {\n",
        "    'n_estimators' : list(range(100,500,100)),\n",
        "    'booster' : ['gblinear','gbtree'],\n",
        "    'max_depth' : list(range(1,3,1)),\n",
        "    'min_child_weight' : list(range(1,3,1)),\n",
        "    'learning_rate' : [0.001, 0.01, 0.1]   \n",
        "}\n",
        "\n",
        "#cross validation - dividindo os dados em subsets\n",
        "kfold = StratifiedKFold(n_splits=5, shuffle=True)\n",
        "grid_search = GridSearchCV(xgb, param_grid, scoring='recall', n_jobs=-1, cv=kfold) #-1means using all processors.\n",
        "grid_result = grid_search.fit(X_train_smote, y_train_smote)\n",
        "\n",
        "print(f'O melhor recall encontrado foi: {grid_result.best_score_} para {grid_result.best_params_}.')"
      ],
      "metadata": {
        "id": "c_DtwMl_NwQ_",
        "colab": {
          "base_uri": "https://localhost:8080/"
        },
        "outputId": "952bc2b4-c3ee-4a28-d4ad-18cd2216c2ef"
      },
      "execution_count": 35,
      "outputs": [
        {
          "output_type": "stream",
          "name": "stdout",
          "text": [
            "O melhor recall encontrado foi: 0.9188772318103465 para {'booster': 'gbtree', 'learning_rate': 0.001, 'max_depth': 1, 'min_child_weight': 1, 'n_estimators': 100}.\n"
          ]
        }
      ]
    },
    {
      "cell_type": "code",
      "source": [
        "#ranking do tuning \n",
        "pd.DataFrame(grid_result.cv_results_)[['params','rank_test_score','mean_test_score']].sort_values('mean_test_score', ascending=False)"
      ],
      "metadata": {
        "colab": {
          "base_uri": "https://localhost:8080/",
          "height": 424
        },
        "id": "qeGIS13WeYPV",
        "outputId": "31680271-68ff-40ae-dbc8-2af0a827d5dd"
      },
      "execution_count": 36,
      "outputs": [
        {
          "output_type": "execute_result",
          "data": {
            "text/plain": [
              "                                               params  rank_test_score  \\\n",
              "48  {'booster': 'gbtree', 'learning_rate': 0.001, ...                1   \n",
              "49  {'booster': 'gbtree', 'learning_rate': 0.001, ...                1   \n",
              "51  {'booster': 'gbtree', 'learning_rate': 0.001, ...                1   \n",
              "52  {'booster': 'gbtree', 'learning_rate': 0.001, ...                1   \n",
              "53  {'booster': 'gbtree', 'learning_rate': 0.001, ...                1   \n",
              "..                                                ...              ...   \n",
              "32  {'booster': 'gblinear', 'learning_rate': 0.1, ...               77   \n",
              "61  {'booster': 'gbtree', 'learning_rate': 0.001, ...               93   \n",
              "57  {'booster': 'gbtree', 'learning_rate': 0.001, ...               93   \n",
              "60  {'booster': 'gbtree', 'learning_rate': 0.001, ...               95   \n",
              "56  {'booster': 'gbtree', 'learning_rate': 0.001, ...               95   \n",
              "\n",
              "    mean_test_score  \n",
              "48         0.918877  \n",
              "49         0.918877  \n",
              "51         0.918877  \n",
              "52         0.918877  \n",
              "53         0.918877  \n",
              "..              ...  \n",
              "32         0.815576  \n",
              "61         0.815572  \n",
              "57         0.815572  \n",
              "60         0.779988  \n",
              "56         0.779988  \n",
              "\n",
              "[96 rows x 3 columns]"
            ],
            "text/html": [
              "\n",
              "  <div id=\"df-1e9735a7-80ed-4376-8d18-e9b05c641694\">\n",
              "    <div class=\"colab-df-container\">\n",
              "      <div>\n",
              "<style scoped>\n",
              "    .dataframe tbody tr th:only-of-type {\n",
              "        vertical-align: middle;\n",
              "    }\n",
              "\n",
              "    .dataframe tbody tr th {\n",
              "        vertical-align: top;\n",
              "    }\n",
              "\n",
              "    .dataframe thead th {\n",
              "        text-align: right;\n",
              "    }\n",
              "</style>\n",
              "<table border=\"1\" class=\"dataframe\">\n",
              "  <thead>\n",
              "    <tr style=\"text-align: right;\">\n",
              "      <th></th>\n",
              "      <th>params</th>\n",
              "      <th>rank_test_score</th>\n",
              "      <th>mean_test_score</th>\n",
              "    </tr>\n",
              "  </thead>\n",
              "  <tbody>\n",
              "    <tr>\n",
              "      <th>48</th>\n",
              "      <td>{'booster': 'gbtree', 'learning_rate': 0.001, ...</td>\n",
              "      <td>1</td>\n",
              "      <td>0.918877</td>\n",
              "    </tr>\n",
              "    <tr>\n",
              "      <th>49</th>\n",
              "      <td>{'booster': 'gbtree', 'learning_rate': 0.001, ...</td>\n",
              "      <td>1</td>\n",
              "      <td>0.918877</td>\n",
              "    </tr>\n",
              "    <tr>\n",
              "      <th>51</th>\n",
              "      <td>{'booster': 'gbtree', 'learning_rate': 0.001, ...</td>\n",
              "      <td>1</td>\n",
              "      <td>0.918877</td>\n",
              "    </tr>\n",
              "    <tr>\n",
              "      <th>52</th>\n",
              "      <td>{'booster': 'gbtree', 'learning_rate': 0.001, ...</td>\n",
              "      <td>1</td>\n",
              "      <td>0.918877</td>\n",
              "    </tr>\n",
              "    <tr>\n",
              "      <th>53</th>\n",
              "      <td>{'booster': 'gbtree', 'learning_rate': 0.001, ...</td>\n",
              "      <td>1</td>\n",
              "      <td>0.918877</td>\n",
              "    </tr>\n",
              "    <tr>\n",
              "      <th>...</th>\n",
              "      <td>...</td>\n",
              "      <td>...</td>\n",
              "      <td>...</td>\n",
              "    </tr>\n",
              "    <tr>\n",
              "      <th>32</th>\n",
              "      <td>{'booster': 'gblinear', 'learning_rate': 0.1, ...</td>\n",
              "      <td>77</td>\n",
              "      <td>0.815576</td>\n",
              "    </tr>\n",
              "    <tr>\n",
              "      <th>61</th>\n",
              "      <td>{'booster': 'gbtree', 'learning_rate': 0.001, ...</td>\n",
              "      <td>93</td>\n",
              "      <td>0.815572</td>\n",
              "    </tr>\n",
              "    <tr>\n",
              "      <th>57</th>\n",
              "      <td>{'booster': 'gbtree', 'learning_rate': 0.001, ...</td>\n",
              "      <td>93</td>\n",
              "      <td>0.815572</td>\n",
              "    </tr>\n",
              "    <tr>\n",
              "      <th>60</th>\n",
              "      <td>{'booster': 'gbtree', 'learning_rate': 0.001, ...</td>\n",
              "      <td>95</td>\n",
              "      <td>0.779988</td>\n",
              "    </tr>\n",
              "    <tr>\n",
              "      <th>56</th>\n",
              "      <td>{'booster': 'gbtree', 'learning_rate': 0.001, ...</td>\n",
              "      <td>95</td>\n",
              "      <td>0.779988</td>\n",
              "    </tr>\n",
              "  </tbody>\n",
              "</table>\n",
              "<p>96 rows × 3 columns</p>\n",
              "</div>\n",
              "      <button class=\"colab-df-convert\" onclick=\"convertToInteractive('df-1e9735a7-80ed-4376-8d18-e9b05c641694')\"\n",
              "              title=\"Convert this dataframe to an interactive table.\"\n",
              "              style=\"display:none;\">\n",
              "        \n",
              "  <svg xmlns=\"http://www.w3.org/2000/svg\" height=\"24px\"viewBox=\"0 0 24 24\"\n",
              "       width=\"24px\">\n",
              "    <path d=\"M0 0h24v24H0V0z\" fill=\"none\"/>\n",
              "    <path d=\"M18.56 5.44l.94 2.06.94-2.06 2.06-.94-2.06-.94-.94-2.06-.94 2.06-2.06.94zm-11 1L8.5 8.5l.94-2.06 2.06-.94-2.06-.94L8.5 2.5l-.94 2.06-2.06.94zm10 10l.94 2.06.94-2.06 2.06-.94-2.06-.94-.94-2.06-.94 2.06-2.06.94z\"/><path d=\"M17.41 7.96l-1.37-1.37c-.4-.4-.92-.59-1.43-.59-.52 0-1.04.2-1.43.59L10.3 9.45l-7.72 7.72c-.78.78-.78 2.05 0 2.83L4 21.41c.39.39.9.59 1.41.59.51 0 1.02-.2 1.41-.59l7.78-7.78 2.81-2.81c.8-.78.8-2.07 0-2.86zM5.41 20L4 18.59l7.72-7.72 1.47 1.35L5.41 20z\"/>\n",
              "  </svg>\n",
              "      </button>\n",
              "      \n",
              "  <style>\n",
              "    .colab-df-container {\n",
              "      display:flex;\n",
              "      flex-wrap:wrap;\n",
              "      gap: 12px;\n",
              "    }\n",
              "\n",
              "    .colab-df-convert {\n",
              "      background-color: #E8F0FE;\n",
              "      border: none;\n",
              "      border-radius: 50%;\n",
              "      cursor: pointer;\n",
              "      display: none;\n",
              "      fill: #1967D2;\n",
              "      height: 32px;\n",
              "      padding: 0 0 0 0;\n",
              "      width: 32px;\n",
              "    }\n",
              "\n",
              "    .colab-df-convert:hover {\n",
              "      background-color: #E2EBFA;\n",
              "      box-shadow: 0px 1px 2px rgba(60, 64, 67, 0.3), 0px 1px 3px 1px rgba(60, 64, 67, 0.15);\n",
              "      fill: #174EA6;\n",
              "    }\n",
              "\n",
              "    [theme=dark] .colab-df-convert {\n",
              "      background-color: #3B4455;\n",
              "      fill: #D2E3FC;\n",
              "    }\n",
              "\n",
              "    [theme=dark] .colab-df-convert:hover {\n",
              "      background-color: #434B5C;\n",
              "      box-shadow: 0px 1px 3px 1px rgba(0, 0, 0, 0.15);\n",
              "      filter: drop-shadow(0px 1px 2px rgba(0, 0, 0, 0.3));\n",
              "      fill: #FFFFFF;\n",
              "    }\n",
              "  </style>\n",
              "\n",
              "      <script>\n",
              "        const buttonEl =\n",
              "          document.querySelector('#df-1e9735a7-80ed-4376-8d18-e9b05c641694 button.colab-df-convert');\n",
              "        buttonEl.style.display =\n",
              "          google.colab.kernel.accessAllowed ? 'block' : 'none';\n",
              "\n",
              "        async function convertToInteractive(key) {\n",
              "          const element = document.querySelector('#df-1e9735a7-80ed-4376-8d18-e9b05c641694');\n",
              "          const dataTable =\n",
              "            await google.colab.kernel.invokeFunction('convertToInteractive',\n",
              "                                                     [key], {});\n",
              "          if (!dataTable) return;\n",
              "\n",
              "          const docLinkHtml = 'Like what you see? Visit the ' +\n",
              "            '<a target=\"_blank\" href=https://colab.research.google.com/notebooks/data_table.ipynb>data table notebook</a>'\n",
              "            + ' to learn more about interactive tables.';\n",
              "          element.innerHTML = '';\n",
              "          dataTable['output_type'] = 'display_data';\n",
              "          await google.colab.output.renderOutput(dataTable, element);\n",
              "          const docLink = document.createElement('div');\n",
              "          docLink.innerHTML = docLinkHtml;\n",
              "          element.appendChild(docLink);\n",
              "        }\n",
              "      </script>\n",
              "    </div>\n",
              "  </div>\n",
              "  "
            ]
          },
          "metadata": {},
          "execution_count": 36
        }
      ]
    },
    {
      "cell_type": "markdown",
      "source": [
        "## 5.2 Tunning Separado\n",
        "\n",
        "Essa parte está comentada, visto que já executei todo o tunning na seção anterior.\n",
        "\n",
        "\n",
        "Caso prefeira executar separado, basta comentar a seção anterior e descomentar esta seção."
      ],
      "metadata": {
        "id": "dT0DEeZeeRRK"
      }
    },
    {
      "cell_type": "markdown",
      "source": [
        "### a) Tuning `n_estimators`\n",
        "\n",
        "    n_estimators (int) - Number of gradient boosted trees. Equivalent to number of boosting rounds\n",
        "\n"
      ],
      "metadata": {
        "id": "fu7Xb_oZdFkW"
      }
    },
    {
      "cell_type": "code",
      "source": [
        "# xgb = XGBClassifier(learning_rate=0.001) # iniciando com o learning_rate\n",
        "\n",
        "# param_grid = {\n",
        "#     'n_estimators' : list(range(0,1000,100))\n",
        "# }\n",
        "\n",
        "# #cross validation - dividindo os dados em subsets\n",
        "# kfold = StratifiedKFold(n_splits=5, shuffle=True)\n",
        "# grid_search = GridSearchCV(xgb, param_grid, scoring='recall', n_jobs=-1, cv=kfold) #-1means using all processors.\n",
        "# grid_result = grid_search.fit(X_train_smote, y_train_smote)\n",
        "\n",
        "# print(f'O melhor recall encontrado foi: {grid_result.best_score_} para {grid_result.best_params_}.')"
      ],
      "metadata": {
        "id": "fDw1YV37d_ds"
      },
      "execution_count": 37,
      "outputs": []
    },
    {
      "cell_type": "code",
      "source": [
        "# #ranking do tuning \n",
        "# pd.DataFrame(grid_result.cv_results_)[['params','rank_test_score','mean_test_score']]"
      ],
      "metadata": {
        "id": "qjuT2L-7fDLX"
      },
      "execution_count": 38,
      "outputs": []
    },
    {
      "cell_type": "markdown",
      "source": [
        "### b) Tunning booster\n",
        "\n",
        "    booster(str) – Specify which booster to use: gbtree, gblinear or dart."
      ],
      "metadata": {
        "id": "m-tF0d6O3r0h"
      }
    },
    {
      "cell_type": "code",
      "source": [
        "# xgb = XGBClassifier(learning_rate=0.001, n_estimators=900)\n",
        "\n",
        "# param_grid = {\n",
        "#     'booster' : ['gblinear','gbtree'] \n",
        "# }\n",
        "\n",
        "# #cross validation - dividindo os dados em subsets\n",
        "# kfold = StratifiedKFold(n_splits=5, shuffle=True)\n",
        "# grid_search = GridSearchCV(xgb, param_grid, scoring='recall', n_jobs=-1, cv=kfold) #-1means using all processors.\n",
        "# grid_result = grid_search.fit(X_train_smote, y_train_smote)\n",
        "\n",
        "# print(f'O melhor recall encontrado foi: {grid_result.best_score_} para {grid_result.best_params_}.')"
      ],
      "metadata": {
        "id": "RJIlSnZl3pwn"
      },
      "execution_count": 39,
      "outputs": []
    },
    {
      "cell_type": "markdown",
      "source": [
        "### c) Tuning `max_depth` e `min_child_weigh`\n",
        " \n",
        "    max_depth (int) - Maximum tree depth for base learners.\n",
        "    min_child_weight(float) - Minimum sum of instance weight(hessian) needed in a child."
      ],
      "metadata": {
        "id": "DOcr0hKTdNXD"
      }
    },
    {
      "cell_type": "code",
      "source": [
        "# xgb = XGBClassifier(learning_rate=0.001, n_estimators=900, booster='gblinear')\n",
        "\n",
        "# param_grid = {\n",
        "#     'max_depth' : list(range(1,4,1)),\n",
        "#     'min_child_weight' : list(range(1,4,1))\n",
        "# }\n",
        "\n",
        "# #cross validation - dividindo os dados em subsets\n",
        "# kfold = StratifiedKFold(n_splits=5, shuffle=True)\n",
        "# grid_search = GridSearchCV(xgb, param_grid, scoring='recall', n_jobs=-1, cv=kfold) #-1means using all processors.\n",
        "# grid_result = grid_search.fit(X_train_smote, y_train_smote)\n",
        "\n",
        "# print(f'O melhor recall encontrado foi: {grid_result.best_score_} para {grid_result.best_params_}.')"
      ],
      "metadata": {
        "id": "riq38KBZeAE1"
      },
      "execution_count": 40,
      "outputs": []
    },
    {
      "cell_type": "markdown",
      "source": [
        "### d) - Tuning learning_rate\n",
        "\n",
        "    learning_rate (float) - Boosting learning rate (xgb’s “eta”)"
      ],
      "metadata": {
        "id": "CyvXqTSsdlpv"
      }
    },
    {
      "cell_type": "code",
      "source": [
        "# xgb = XGBClassifier(n_estimators=200, booster='gblinear', max_depth=1, min_child_weight=1)\n",
        "\n",
        "# param_grid = {\n",
        "#     'learning_rate' : [0.001, 0.01, 0.1, 1]\n",
        "# }\n",
        "\n",
        "# #cross validation - dividindo os dados em subsets\n",
        "# kfold = StratifiedKFold(n_splits=5, shuffle=True)\n",
        "# grid_search = GridSearchCV(xgb, param_grid, scoring='recall', n_jobs=-1, cv=kfold) #-1means using all processors.\n",
        "# grid_result = grid_search.fit(X_train_smote, y_train_smote)\n",
        "\n",
        "# print(f'O melhor recall encontrado foi: {grid_result.best_score_} para {grid_result.best_params_}.')"
      ],
      "metadata": {
        "id": "iMLq20MGdMoL"
      },
      "execution_count": 41,
      "outputs": []
    },
    {
      "cell_type": "markdown",
      "source": [
        "## 5.3 Resultado com dados de validação\n",
        "\n",
        "Resultado com os parâmetros otimizados com os dados de validação.\n",
        "\n",
        "Foi obtido um valor de `recall` de 0.85 para os dados de validação, valor um pouco abaixo do obtido para os dados de teste que foi de 0.91.\n",
        "\n",
        "Isto nos mostra que o modelo não ficou sobreajustado aos dados de treino (`overfitting`)."
      ],
      "metadata": {
        "id": "4y06Zb1yqc_k"
      }
    },
    {
      "cell_type": "code",
      "source": [
        "# modelo final\n",
        "xgb_final = XGBClassifier(learning_rate=0.001, n_estimators=100, booster='gbtree', max_depth=1, min_child_weight=1)\n",
        "xgb_final.fit(X_train_smote, y_train_smote)\n",
        "\n",
        "# fazer a previsão\n",
        "X_test = scaler.transform(X_test) #scaler no item 3.3\n",
        "y_pred = xgb_final.predict(X_test)\n",
        "\n",
        "print('-'*60)\n",
        "print('                         XGBClassifier')\n",
        "print('-'*60)\n",
        "\n",
        "# Classification Report\n",
        "print(classification_report(y_test, y_pred,digits=4))\n",
        "\n",
        "# imprimir a área sob a curva\n",
        "print(\"AUC: {:.4f}\\n\".format(roc_auc_score(y_test, y_pred)))\n",
        "\n",
        "# plotar matriz de confusão\n",
        "skplt.metrics.plot_confusion_matrix(y_test, y_pred, normalize=True, cmap='Blues')\n",
        "plt.show()"
      ],
      "metadata": {
        "colab": {
          "base_uri": "https://localhost:8080/",
          "height": 551
        },
        "id": "Z6ZZmnPhqTGq",
        "outputId": "761329a1-bda4-47b7-8d50-f8965b39a063"
      },
      "execution_count": 42,
      "outputs": [
        {
          "output_type": "stream",
          "name": "stdout",
          "text": [
            "------------------------------------------------------------\n",
            "                         XGBClassifier\n",
            "------------------------------------------------------------\n",
            "              precision    recall  f1-score   support\n",
            "\n",
            "           0     0.9165    0.5696    0.7026      1041\n",
            "           1     0.4121    0.8533    0.5558       368\n",
            "\n",
            "    accuracy                         0.6437      1409\n",
            "   macro avg     0.6643    0.7115    0.6292      1409\n",
            "weighted avg     0.7848    0.6437    0.6643      1409\n",
            "\n",
            "AUC: 0.7115\n",
            "\n"
          ]
        },
        {
          "output_type": "display_data",
          "data": {
            "text/plain": [
              "<Figure size 432x288 with 2 Axes>"
            ],
            "image/png": "[encoded data removed]"
          },
          "metadata": {
            "needs_background": "light"
          }
        }
      ]
    },
    {
      "cell_type": "markdown",
      "source": [
        "## 5.6 Resultado com dados de simulação\n",
        "\n",
        "Abaixo é ilustrado o modelo com os dados de simulação, que foram reservados no item 3.2. Os dados nunca haviam sido testados pelo modelo.\n",
        "\n",
        "\n",
        "O resultado foi próximo ao dos dados de teste, ficando ligeiramente melhores para prever clientes irão deixar a empresa e 0.05 pior do que nos dados de treino.\n"
      ],
      "metadata": {
        "id": "69gKnMdLxZW6"
      }
    },
    {
      "cell_type": "code",
      "source": [
        "# copiando o dataframe\n",
        "simulacao = df_teste.copy()\n",
        "# separando os dados da nossa variável alvo\n",
        "X_simulacao = simulacao.drop('Churn', axis=1)\n",
        "y_simulacao = simulacao.Churn\n",
        "\n",
        "\n",
        "X_simulacao = scaler.transform(X_simulacao) #scaler no item 3.3\n",
        "y_pred_simulacao = xgb_final.predict(X_simulacao)"
      ],
      "metadata": {
        "id": "PNos0Tdix6UJ"
      },
      "execution_count": 43,
      "outputs": []
    },
    {
      "cell_type": "code",
      "source": [
        "print('-'*60)\n",
        "print('                         XGBClassifier')\n",
        "print('-'*60)\n",
        "\n",
        "# Classification Report\n",
        "print(classification_report(y_simulacao, y_pred_simulacao,digits=4))\n",
        "\n",
        "# imprimir a área sob a curva\n",
        "print(\"AUC: {:.4f}\\n\".format(roc_auc_score(y_simulacao, y_pred_simulacao)))\n",
        "\n",
        "# plotar matriz de confusão\n",
        "skplt.metrics.plot_confusion_matrix(y_simulacao, y_pred_simulacao, normalize=True, cmap='Blues')\n",
        "plt.show()"
      ],
      "metadata": {
        "colab": {
          "base_uri": "https://localhost:8080/",
          "height": 551
        },
        "id": "RDpYzp-Py4qu",
        "outputId": "5b40e64f-75cf-46e8-887f-dd6ed1711248"
      },
      "execution_count": 44,
      "outputs": [
        {
          "output_type": "stream",
          "name": "stdout",
          "text": [
            "------------------------------------------------------------\n",
            "                         XGBClassifier\n",
            "------------------------------------------------------------\n",
            "              precision    recall  f1-score   support\n",
            "\n",
            "           0     0.9201    0.5703    0.7042       889\n",
            "           1     0.4087    0.8571    0.5535       308\n",
            "\n",
            "    accuracy                         0.6441      1197\n",
            "   macro avg     0.6644    0.7137    0.6288      1197\n",
            "weighted avg     0.7885    0.6441    0.6654      1197\n",
            "\n",
            "AUC: 0.7137\n",
            "\n"
          ]
        },
        {
          "output_type": "display_data",
          "data": {
            "text/plain": [
              "<Figure size 432x288 with 2 Axes>"
            ],
            "image/png": "[encoded data removed]"
          },
          "metadata": {
            "needs_background": "light"
          }
        }
      ]
    },
    {
      "cell_type": "markdown",
      "source": [
        "## 5.7 Variáveis e sua importância\n",
        "\n",
        "Abaixo é apresentado a importância (peso) de cada variável no modelo."
      ],
      "metadata": {
        "id": "FvDmMkatzhOc"
      }
    },
    {
      "cell_type": "code",
      "source": [
        "feature_importances = pd.DataFrame(xgb_final.feature_importances_,\n",
        "                                   index = X_train.columns,\n",
        "                                   columns=['importancia']).sort_values('importancia', ascending=False)\n",
        "feature_importances.head()"
      ],
      "metadata": {
        "id": "e6BWbu73-k-2",
        "colab": {
          "base_uri": "https://localhost:8080/",
          "height": 206
        },
        "outputId": "398ff4ad-56c4-4aab-82aa-9063f722c0a0"
      },
      "execution_count": 45,
      "outputs": [
        {
          "output_type": "execute_result",
          "data": {
            "text/plain": [
              "                                       importancia\n",
              "Contract_Month-to-month                        1.0\n",
              "gender                                         0.0\n",
              "OnlineBackup_Yes                               0.0\n",
              "PaymentMethod_Electronic check                 0.0\n",
              "PaymentMethod_Credit card (automatic)          0.0"
            ],
            "text/html": [
              "\n",
              "  <div id=\"df-9e5f8fbe-e9ef-4550-8e56-d977c1214c8f\">\n",
              "    <div class=\"colab-df-container\">\n",
              "      <div>\n",
              "<style scoped>\n",
              "    .dataframe tbody tr th:only-of-type {\n",
              "        vertical-align: middle;\n",
              "    }\n",
              "\n",
              "    .dataframe tbody tr th {\n",
              "        vertical-align: top;\n",
              "    }\n",
              "\n",
              "    .dataframe thead th {\n",
              "        text-align: right;\n",
              "    }\n",
              "</style>\n",
              "<table border=\"1\" class=\"dataframe\">\n",
              "  <thead>\n",
              "    <tr style=\"text-align: right;\">\n",
              "      <th></th>\n",
              "      <th>importancia</th>\n",
              "    </tr>\n",
              "  </thead>\n",
              "  <tbody>\n",
              "    <tr>\n",
              "      <th>Contract_Month-to-month</th>\n",
              "      <td>1.0</td>\n",
              "    </tr>\n",
              "    <tr>\n",
              "      <th>gender</th>\n",
              "      <td>0.0</td>\n",
              "    </tr>\n",
              "    <tr>\n",
              "      <th>OnlineBackup_Yes</th>\n",
              "      <td>0.0</td>\n",
              "    </tr>\n",
              "    <tr>\n",
              "      <th>PaymentMethod_Electronic check</th>\n",
              "      <td>0.0</td>\n",
              "    </tr>\n",
              "    <tr>\n",
              "      <th>PaymentMethod_Credit card (automatic)</th>\n",
              "      <td>0.0</td>\n",
              "    </tr>\n",
              "  </tbody>\n",
              "</table>\n",
              "</div>\n",
              "      <button class=\"colab-df-convert\" onclick=\"convertToInteractive('df-9e5f8fbe-e9ef-4550-8e56-d977c1214c8f')\"\n",
              "              title=\"Convert this dataframe to an interactive table.\"\n",
              "              style=\"display:none;\">\n",
              "        \n",
              "  <svg xmlns=\"http://www.w3.org/2000/svg\" height=\"24px\"viewBox=\"0 0 24 24\"\n",
              "       width=\"24px\">\n",
              "    <path d=\"M0 0h24v24H0V0z\" fill=\"none\"/>\n",
              "    <path d=\"M18.56 5.44l.94 2.06.94-2.06 2.06-.94-2.06-.94-.94-2.06-.94 2.06-2.06.94zm-11 1L8.5 8.5l.94-2.06 2.06-.94-2.06-.94L8.5 2.5l-.94 2.06-2.06.94zm10 10l.94 2.06.94-2.06 2.06-.94-2.06-.94-.94-2.06-.94 2.06-2.06.94z\"/><path d=\"M17.41 7.96l-1.37-1.37c-.4-.4-.92-.59-1.43-.59-.52 0-1.04.2-1.43.59L10.3 9.45l-7.72 7.72c-.78.78-.78 2.05 0 2.83L4 21.41c.39.39.9.59 1.41.59.51 0 1.02-.2 1.41-.59l7.78-7.78 2.81-2.81c.8-.78.8-2.07 0-2.86zM5.41 20L4 18.59l7.72-7.72 1.47 1.35L5.41 20z\"/>\n",
              "  </svg>\n",
              "      </button>\n",
              "      \n",
              "  <style>\n",
              "    .colab-df-container {\n",
              "      display:flex;\n",
              "      flex-wrap:wrap;\n",
              "      gap: 12px;\n",
              "    }\n",
              "\n",
              "    .colab-df-convert {\n",
              "      background-color: #E8F0FE;\n",
              "      border: none;\n",
              "      border-radius: 50%;\n",
              "      cursor: pointer;\n",
              "      display: none;\n",
              "      fill: #1967D2;\n",
              "      height: 32px;\n",
              "      padding: 0 0 0 0;\n",
              "      width: 32px;\n",
              "    }\n",
              "\n",
              "    .colab-df-convert:hover {\n",
              "      background-color: #E2EBFA;\n",
              "      box-shadow: 0px 1px 2px rgba(60, 64, 67, 0.3), 0px 1px 3px 1px rgba(60, 64, 67, 0.15);\n",
              "      fill: #174EA6;\n",
              "    }\n",
              "\n",
              "    [theme=dark] .colab-df-convert {\n",
              "      background-color: #3B4455;\n",
              "      fill: #D2E3FC;\n",
              "    }\n",
              "\n",
              "    [theme=dark] .colab-df-convert:hover {\n",
              "      background-color: #434B5C;\n",
              "      box-shadow: 0px 1px 3px 1px rgba(0, 0, 0, 0.15);\n",
              "      filter: drop-shadow(0px 1px 2px rgba(0, 0, 0, 0.3));\n",
              "      fill: #FFFFFF;\n",
              "    }\n",
              "  </style>\n",
              "\n",
              "      <script>\n",
              "        const buttonEl =\n",
              "          document.querySelector('#df-9e5f8fbe-e9ef-4550-8e56-d977c1214c8f button.colab-df-convert');\n",
              "        buttonEl.style.display =\n",
              "          google.colab.kernel.accessAllowed ? 'block' : 'none';\n",
              "\n",
              "        async function convertToInteractive(key) {\n",
              "          const element = document.querySelector('#df-9e5f8fbe-e9ef-4550-8e56-d977c1214c8f');\n",
              "          const dataTable =\n",
              "            await google.colab.kernel.invokeFunction('convertToInteractive',\n",
              "                                                     [key], {});\n",
              "          if (!dataTable) return;\n",
              "\n",
              "          const docLinkHtml = 'Like what you see? Visit the ' +\n",
              "            '<a target=\"_blank\" href=https://colab.research.google.com/notebooks/data_table.ipynb>data table notebook</a>'\n",
              "            + ' to learn more about interactive tables.';\n",
              "          element.innerHTML = '';\n",
              "          dataTable['output_type'] = 'display_data';\n",
              "          await google.colab.output.renderOutput(dataTable, element);\n",
              "          const docLink = document.createElement('div');\n",
              "          docLink.innerHTML = docLinkHtml;\n",
              "          element.appendChild(docLink);\n",
              "        }\n",
              "      </script>\n",
              "    </div>\n",
              "  </div>\n",
              "  "
            ]
          },
          "metadata": {},
          "execution_count": 45
        }
      ]
    },
    {
      "cell_type": "markdown",
      "source": [
        "# 6 - Conclusão\n",
        "\n",
        "Durante todo o projeto foi possível aprofundar nas técnicas de construção de modelos de aprendizado de máquina, no uso de `pipeline`, `cross validation` e no `tuning` de hiperparâmetros, buscando melhorar os resultados previamente encontrados.\n",
        "\n",
        "O modelo selecionado foi o `XGBClassifier`, que durante o treino teve um `recall` de aproximadamente 91%, 85% para os dados de validação e 86% para os dados de teste.\n",
        "\n",
        "Isso sifinifica que o modelo consegue identificar quase 90% dos clientes que irão abandonar a empresa. Por outro lado, ele está reportando cerca de 43% de clientes ativos como clientes churn de forma errônea (Falso positivo). \n",
        "\n",
        "Este número de FP encontrado é bastante alto, visto que em uma base de clientes de telecom o churn mensal costuma ser de 2%. Levando em consideração que a empresa monte um plano para evitar que os clientes abandonem a empresa, o plano seria aplicado em um volume muito maior de clientes do que o necessário, aumentando custos para reter os clientes.\n",
        "\n",
        "Na análise exploratória alguns fatos me chamara atenção, como por exemplo o fato  de 88% dos clientes com churn possuírem contratos mensal contra 43% dos clientes ativos. Também chamou atenção que o lifetime dos clientes com churn se concentram nos primeiros meses, diferente dos clientes ativos que são mais espalhados no tempo e com concentração acima dos 50 meses. E por fim, o fato dos clietnes com internet de fibra ótica serem os clientes com maior índice de evasão, sendo que a maior parte dos clientes ativos possuem uma tecnologia antiga que performa pior que a fibra óptica.\n",
        "\n",
        "Isto me trouxe insights como: tentar fidelizar o cliente com contratos mais longos ao invés de mensal (ação incomum no Brasil), fazer um acompanhamento dos clientes recém ativos na primeira semana, quinzena e mês para verificar a performance dos produtos e o feedback do cliente, e por fim, fazer uma análise técnica na internet de fibra óptica, pois a mesma por padrão performa muito melhor que a tecnologia DSL, e estranhamente está concentrando a maior parte dos clientes com churn.\n",
        "\n",
        "Como trabalho futuro fica o estudo de outros classimodelos, hiperparâmetros e  dimensionadores, visando melhorar o modelo escolhi. \n"
      ],
      "metadata": {
        "id": "qRXx0CAkEB6u"
      }
    },
    {
      "cell_type": "code",
      "source": [
        ""
      ],
      "metadata": {
        "id": "DlVHDX4Hv048"
      },
      "execution_count": 45,
      "outputs": []
    }
  ]
}